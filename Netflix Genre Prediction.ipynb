{
 "cells": [
  {
   "cell_type": "code",
   "execution_count": 1,
   "metadata": {},
   "outputs": [],
   "source": [
    "import pandas as pd\n",
    "import numpy as np\n",
    "import matplotlib as plt\n",
    "import sklearn\n",
    "import re\n",
    "import pandas_profiling\n",
    "from pandas_profiling.utils.cache import cache_file"
   ]
  },
  {
   "cell_type": "code",
   "execution_count": 2,
   "metadata": {},
   "outputs": [],
   "source": [
    "df = pd.read_csv(\"D:/SPRINGBOARD/Case studies/Unit 7 - Data Collection - APIs/Project Ideas and Datasets/Text Analysis//Netflix/netflix_titles.csv\")"
   ]
  },
  {
   "cell_type": "code",
   "execution_count": 3,
   "metadata": {},
   "outputs": [
    {
     "data": {
      "text/html": [
       "<div>\n",
       "<style scoped>\n",
       "    .dataframe tbody tr th:only-of-type {\n",
       "        vertical-align: middle;\n",
       "    }\n",
       "\n",
       "    .dataframe tbody tr th {\n",
       "        vertical-align: top;\n",
       "    }\n",
       "\n",
       "    .dataframe thead th {\n",
       "        text-align: right;\n",
       "    }\n",
       "</style>\n",
       "<table border=\"1\" class=\"dataframe\">\n",
       "  <thead>\n",
       "    <tr style=\"text-align: right;\">\n",
       "      <th></th>\n",
       "      <th>show_id</th>\n",
       "      <th>type</th>\n",
       "      <th>title</th>\n",
       "      <th>director</th>\n",
       "      <th>cast</th>\n",
       "      <th>country</th>\n",
       "      <th>date_added</th>\n",
       "      <th>release_year</th>\n",
       "      <th>rating</th>\n",
       "      <th>duration</th>\n",
       "      <th>listed_in</th>\n",
       "      <th>description</th>\n",
       "    </tr>\n",
       "  </thead>\n",
       "  <tbody>\n",
       "    <tr>\n",
       "      <th>0</th>\n",
       "      <td>s1</td>\n",
       "      <td>TV Show</td>\n",
       "      <td>3%</td>\n",
       "      <td>NaN</td>\n",
       "      <td>João Miguel, Bianca Comparato, Michel Gomes, R...</td>\n",
       "      <td>Brazil</td>\n",
       "      <td>August 14, 2020</td>\n",
       "      <td>2020</td>\n",
       "      <td>TV-MA</td>\n",
       "      <td>4 Seasons</td>\n",
       "      <td>International TV Shows, TV Dramas, TV Sci-Fi &amp;...</td>\n",
       "      <td>In a future where the elite inhabit an island ...</td>\n",
       "    </tr>\n",
       "    <tr>\n",
       "      <th>1</th>\n",
       "      <td>s2</td>\n",
       "      <td>Movie</td>\n",
       "      <td>07:19</td>\n",
       "      <td>Jorge Michel Grau</td>\n",
       "      <td>Demián Bichir, Héctor Bonilla, Oscar Serrano, ...</td>\n",
       "      <td>Mexico</td>\n",
       "      <td>December 23, 2016</td>\n",
       "      <td>2016</td>\n",
       "      <td>TV-MA</td>\n",
       "      <td>93 min</td>\n",
       "      <td>Dramas, International Movies</td>\n",
       "      <td>After a devastating earthquake hits Mexico Cit...</td>\n",
       "    </tr>\n",
       "  </tbody>\n",
       "</table>\n",
       "</div>"
      ],
      "text/plain": [
       "  show_id     type  title           director  \\\n",
       "0      s1  TV Show     3%                NaN   \n",
       "1      s2    Movie  07:19  Jorge Michel Grau   \n",
       "\n",
       "                                                cast country  \\\n",
       "0  João Miguel, Bianca Comparato, Michel Gomes, R...  Brazil   \n",
       "1  Demián Bichir, Héctor Bonilla, Oscar Serrano, ...  Mexico   \n",
       "\n",
       "          date_added  release_year rating   duration  \\\n",
       "0    August 14, 2020          2020  TV-MA  4 Seasons   \n",
       "1  December 23, 2016          2016  TV-MA     93 min   \n",
       "\n",
       "                                           listed_in  \\\n",
       "0  International TV Shows, TV Dramas, TV Sci-Fi &...   \n",
       "1                       Dramas, International Movies   \n",
       "\n",
       "                                         description  \n",
       "0  In a future where the elite inhabit an island ...  \n",
       "1  After a devastating earthquake hits Mexico Cit...  "
      ]
     },
     "execution_count": 3,
     "metadata": {},
     "output_type": "execute_result"
    }
   ],
   "source": [
    "df.head(2)"
   ]
  },
  {
   "cell_type": "markdown",
   "metadata": {},
   "source": [
    "# Problem Statement : To predict the genre of a movie with the text in the description. "
   ]
  },
  {
   "cell_type": "markdown",
   "metadata": {},
   "source": [
    "# We would use the Genre mentioned in listed_in column to test the accuracy of our model. \n",
    "#This is a multiclass porbelm and currently we have more than 275 unique genres in the listed_in column. \n",
    "# We have catagorized these in 18 genres(given below) and created another column \"genre\" which has multiple genres for each movie.\n",
    "#We have combined different genres like \"Stand-Up Comedy\" and \"Stand-Up Comedy & Talk Shows\" into \"Comedy\" \n",
    "#like \"TV Dramas\" and TV \"Dramas\" to Drama. \n",
    "#Also removed genres like \"International TV Shows\" or \"TV Shows\" as these genres are present along with other genres which we would consider. "
   ]
  },
  {
   "cell_type": "markdown",
   "metadata": {},
   "source": [
    "# Setp : Data Wrangling "
   ]
  },
  {
   "cell_type": "markdown",
   "metadata": {},
   "source": [
    "##final_genres : (\"Anime Features\",\"Anime Features\").replace(\"Children & Family Movies\",\"Children & Family\")\n",
    "#.replace(\"Classic & Cult TV\",\"Classic\").replace(\"Classic Movies\",\"Classic\").replace(\"Comedies\",\"Comedy\")\n",
    "#.replace(\"Crime TV Shows\",\"Crime\").replace(\"Cult Movies\",\"Cult\").replace(\"Documentaries\",\"Documenty\")\n",
    "#.replace(\"Docuseries\",\"Documenty\").replace(\"Dramas\",\"Drama\").replace(\"Faith & Spirituality\",\"Spirituality\")\n",
    "#.replace(\"Horror Movies\",\"Horror\").replace(\"Independent Movies\",\"\").replace(\"International Movies\",\"\")\n",
    "#.replace(\"International TV Shows\",\"\").replace(\"Kids TV\",\"Children & Family\").replace(\"Korean TV Shows\",\"\")\n",
    "#.replace(\"LGBTQ Movies\",\"LGBTQ\").replace(\"Music & Musicals\",\"\").replace(\"Reality TV\",\"\").replace(\"Romantic Movies\",\"Romance\")\n",
    "#.replace(\"Sci-Fi & Fantasy\",\"Sci-Fi\").replace(\"Science & Nature TV\",\"Science&Nature\").replace(\"Spanish-Language TV Shows\",\"\")\n",
    "#.replace(\"Stand-Up Comedy\",\"Comedy\").replace(\"Stand-Up Comedy & Talk Shows\",\"Comedy\").replace(\"TV Action & Adventure\",\"Action\")\n",
    "#.replace(\"TV Comedies\",\"Comedy\").replace(\"TV Dramas\",\"Drama\").replace(\"TV Horror\",\"Horror\").replace(\"TV Mysteries\",\"\")\n",
    "#.replace(\"TV Sci-Fi & Fantasy\",\"Sci-Fi\").replace(\"TV Thrillers\",\"Thriller\").replace(\"Teen TV Shows\",\"\")\n",
    "#.replace(\"Thrillers\",\"Thriller\").replace(\"Action & Adventure\",\"Action\").replace(\"Anime Features\",\"Anime Features\")\n",
    "#.replace(\"Anime Series\",\"Anime Features\").replace(\"British TV Shows\",\"\").replace(\"Children & Family Movies\",\"Children & Family\")\n",
    "#.replace(\"Classic & Cult TV\",\"Classic\").replace(\"Classic Movies\",\"Classic\").replace(\"Comedies\",\"Comedy\")\n",
    "#.replace(\"Crime TV Shows\",\"Crime\").replace(\"Cult Movies\",\"Cult\").replace(\"Documentaries\",\"Documenty\")\n",
    "#.replace(\"Docuseries\",\"Documenty\").replace(\"Dramas\",\"Drama\").replace(\"Horror Movies\",\"Horror\")\n",
    "#.replace(\"Independent Movies\",\"\").replace(\"International Movies\",\"\").replace(\"International TV Shows\",\"\")\n",
    "#.replace(\"Kids TV\",\"Children & Family\").replace(\"LGBTQ Movies\",\"LGBTQ Movies\").replace(\"Movies\",\"\")\n",
    "#.replace(\"Music & Musicals\",\"\").replace(\"Reality TV\",\"\").replace(\"Romantic Movies\",\"Romance\").replace(\"Romantic TV Shows\",\"Romance\")\n",
    "#.replace(\"Sci-Fi & Fantasy\",\"Sci-Fi\").replace(\"Spanish-Language TV Shows\",\"\").replace(\"Sports Movies\",\"Sports\")\n",
    "#.replace(\"Stand-Up Comedy\",\"Comedy\").replace(\"Stand-Up Comedy & Talk Shows\",\"Comedy\").replace(\"TV Action & Adventure\",\"Action\")\n",
    "#.replace(\"TV Comedies\",\"Comedy\").replace(\"TV Dramas\",\"Drama\").replace(\"TV Horror\",\"Horror\")\n",
    "#.replace(\"TV Sci-Fi & Fantasy\",\"Sci-Fi\").replace(\"TV Shows\",\"\").replace(\"Thrillers\",\"Thriller\")]"
   ]
  },
  {
   "cell_type": "code",
   "execution_count": 4,
   "metadata": {},
   "outputs": [],
   "source": [
    "df['genre'] = df['listed_in']"
   ]
  },
  {
   "cell_type": "code",
   "execution_count": 5,
   "metadata": {},
   "outputs": [
    {
     "name": "stderr",
     "output_type": "stream",
     "text": [
      "<ipython-input-5-e9cbca4453f8>:2: SettingWithCopyWarning: \n",
      "A value is trying to be set on a copy of a slice from a DataFrame\n",
      "\n",
      "See the caveats in the documentation: https://pandas.pydata.org/pandas-docs/stable/user_guide/indexing.html#returning-a-view-versus-a-copy\n",
      "  df['genre'][i] = df['genre'][i].replace(\"Anime Features\",\"Anime Features\").replace(\"Children & Family Movies\",\"Children & Family\").replace(\"Classic & Cult TV\",\"Classic\").replace(\"Classic Movies\",\"Classic\").replace(\"Comedies\",\"Comedy\").replace(\"Crime TV Shows\",\"Crime\").replace(\"Cult Movies\",\"Cult\").replace(\"Documentaries\",\"Documenty\").replace(\"Docuseries\",\"Documenty\").replace(\"Dramas\",\"Drama\").replace(\"Faith & Spirituality\",\"Spirituality\").replace(\"Horror Movies\",\"Horror\").replace(\"Independent Movies\",\"\").replace(\"International Movies\",\"\").replace(\"International TV Shows\",\"\").replace(\"Kids TV\",\"Children & Family\").replace(\"Korean TV Shows\",\"\").replace(\"LGBTQ Movies\",\"LGBTQ\").replace(\"Music & Musicals\",\"\").replace(\"Reality TV\",\"\").replace(\"Romantic Movies\",\"Romance\").replace(\"Sci-Fi & Fantasy\",\"Sci-Fi\").replace(\"Science & Nature TV\",\"Science&Nature\").replace(\"Spanish-Language TV Shows\",\"\").replace(\"Stand-Up Comedy\",\"Comedy\").replace(\"Stand-Up Comedy & Talk Shows\",\"Comedy\").replace(\"TV Action & Adventure\",\"Action\").replace(\"TV Comedies\",\"Comedy\").replace(\"TV Dramas\",\"Drama\").replace(\"TV Horror\",\"Horror\").replace(\"TV Mysteries\",\"\").replace(\"TV Sci-Fi & Fantasy\",\"Sci-Fi\").replace(\"TV Thrillers\",\"Thriller\").replace(\"Teen TV Shows\",\"\").replace(\"Thrillers\",\"Thriller\").replace(\"Action & Adventure\",\"Action\").replace(\"Anime Features\",\"Anime Features\").replace(\"Anime Series\",\"Anime Features\").replace(\"British TV Shows\",\"\").replace(\"Children & Family Movies\",\"Children & Family\").replace(\"Classic & Cult TV\",\"Classic\").replace(\"Classic Movies\",\"Classic\").replace(\"Comedies\",\"Comedy\").replace(\"Crime TV Shows\",\"Crime\").replace(\"Cult Movies\",\"Cult\").replace(\"Documentaries\",\"Documenty\").replace(\"Docuseries\",\"Documenty\").replace(\"Dramas\",\"Drama\").replace(\"Horror Movies\",\"Horror\").replace(\"Independent Movies\",\"\").replace(\"International Movies\",\"\").replace(\"International TV Shows\",\"\").replace(\"Kids TV\",\"Children & Family\").replace(\"LGBTQ Movies\",\"LGBTQ Movies\").replace(\"Movies\",\"\").replace(\"Music & Musicals\",\"\").replace(\"Reality TV\",\"\").replace(\"Romantic Movies\",\"Romance\").replace(\"Romantic TV Shows\",\"Romance\").replace(\"Sci-Fi & Fantasy\",\"Sci-Fi\").replace(\"Spanish-Language TV Shows\",\"\").replace(\"Sports Movies\",\"Sports\").replace(\"Stand-Up Comedy\",\"Comedy\").replace(\"Stand-Up Comedy & Talk Shows\",\"Comedy\").replace(\"TV Action & Adventure\",\"Action\").replace(\"TV Comedies\",\"Comedy\").replace(\"TV Dramas\",\"Drama\").replace(\"TV Horror\",\"Horror\").replace(\"TV Sci-Fi & Fantasy\",\"Sci-Fi\").replace(\"TV Shows\",\"\").replace(\"Thrillers\",\"Thriller\")\n"
     ]
    }
   ],
   "source": [
    "for i in range(len(df['genre'])):\n",
    "    df['genre'][i] = df['genre'][i].replace(\"Anime Features\",\"Anime Features\").replace(\"Children & Family Movies\",\"Children & Family\").replace(\"Classic & Cult TV\",\"Classic\").replace(\"Classic Movies\",\"Classic\").replace(\"Comedies\",\"Comedy\").replace(\"Crime TV Shows\",\"Crime\").replace(\"Cult Movies\",\"Cult\").replace(\"Documentaries\",\"Documenty\").replace(\"Docuseries\",\"Documenty\").replace(\"Dramas\",\"Drama\").replace(\"Faith & Spirituality\",\"Spirituality\").replace(\"Horror Movies\",\"Horror\").replace(\"Independent Movies\",\"\").replace(\"International Movies\",\"\").replace(\"International TV Shows\",\"\").replace(\"Kids TV\",\"Children & Family\").replace(\"Korean TV Shows\",\"\").replace(\"LGBTQ Movies\",\"LGBTQ\").replace(\"Music & Musicals\",\"\").replace(\"Reality TV\",\"\").replace(\"Romantic Movies\",\"Romance\").replace(\"Sci-Fi & Fantasy\",\"Sci-Fi\").replace(\"Science & Nature TV\",\"Science&Nature\").replace(\"Spanish-Language TV Shows\",\"\").replace(\"Stand-Up Comedy\",\"Comedy\").replace(\"Stand-Up Comedy & Talk Shows\",\"Comedy\").replace(\"TV Action & Adventure\",\"Action\").replace(\"TV Comedies\",\"Comedy\").replace(\"TV Dramas\",\"Drama\").replace(\"TV Horror\",\"Horror\").replace(\"TV Mysteries\",\"\").replace(\"TV Sci-Fi & Fantasy\",\"Sci-Fi\").replace(\"TV Thrillers\",\"Thriller\").replace(\"Teen TV Shows\",\"\").replace(\"Thrillers\",\"Thriller\").replace(\"Action & Adventure\",\"Action\").replace(\"Anime Features\",\"Anime Features\").replace(\"Anime Series\",\"Anime Features\").replace(\"British TV Shows\",\"\").replace(\"Children & Family Movies\",\"Children & Family\").replace(\"Classic & Cult TV\",\"Classic\").replace(\"Classic Movies\",\"Classic\").replace(\"Comedies\",\"Comedy\").replace(\"Crime TV Shows\",\"Crime\").replace(\"Cult Movies\",\"Cult\").replace(\"Documentaries\",\"Documenty\").replace(\"Docuseries\",\"Documenty\").replace(\"Dramas\",\"Drama\").replace(\"Horror Movies\",\"Horror\").replace(\"Independent Movies\",\"\").replace(\"International Movies\",\"\").replace(\"International TV Shows\",\"\").replace(\"Kids TV\",\"Children & Family\").replace(\"LGBTQ Movies\",\"LGBTQ Movies\").replace(\"Movies\",\"\").replace(\"Music & Musicals\",\"\").replace(\"Reality TV\",\"\").replace(\"Romantic Movies\",\"Romance\").replace(\"Romantic TV Shows\",\"Romance\").replace(\"Sci-Fi & Fantasy\",\"Sci-Fi\").replace(\"Spanish-Language TV Shows\",\"\").replace(\"Sports Movies\",\"Sports\").replace(\"Stand-Up Comedy\",\"Comedy\").replace(\"Stand-Up Comedy & Talk Shows\",\"Comedy\").replace(\"TV Action & Adventure\",\"Action\").replace(\"TV Comedies\",\"Comedy\").replace(\"TV Dramas\",\"Drama\").replace(\"TV Horror\",\"Horror\").replace(\"TV Sci-Fi & Fantasy\",\"Sci-Fi\").replace(\"TV Shows\",\"\").replace(\"Thrillers\",\"Thriller\")"
   ]
  },
  {
   "cell_type": "code",
   "execution_count": 6,
   "metadata": {},
   "outputs": [
    {
     "data": {
      "text/plain": [
       "(7787, 13)"
      ]
     },
     "execution_count": 6,
     "metadata": {},
     "output_type": "execute_result"
    }
   ],
   "source": [
    "df.shape"
   ]
  },
  {
   "cell_type": "code",
   "execution_count": 7,
   "metadata": {},
   "outputs": [
    {
     "data": {
      "text/html": [
       "<div>\n",
       "<style scoped>\n",
       "    .dataframe tbody tr th:only-of-type {\n",
       "        vertical-align: middle;\n",
       "    }\n",
       "\n",
       "    .dataframe tbody tr th {\n",
       "        vertical-align: top;\n",
       "    }\n",
       "\n",
       "    .dataframe thead th {\n",
       "        text-align: right;\n",
       "    }\n",
       "</style>\n",
       "<table border=\"1\" class=\"dataframe\">\n",
       "  <thead>\n",
       "    <tr style=\"text-align: right;\">\n",
       "      <th></th>\n",
       "      <th>show_id</th>\n",
       "      <th>type</th>\n",
       "      <th>title</th>\n",
       "      <th>director</th>\n",
       "      <th>cast</th>\n",
       "      <th>country</th>\n",
       "      <th>date_added</th>\n",
       "      <th>release_year</th>\n",
       "      <th>rating</th>\n",
       "      <th>duration</th>\n",
       "      <th>listed_in</th>\n",
       "      <th>description</th>\n",
       "      <th>genre</th>\n",
       "    </tr>\n",
       "  </thead>\n",
       "  <tbody>\n",
       "    <tr>\n",
       "      <th>0</th>\n",
       "      <td>s1</td>\n",
       "      <td>TV Show</td>\n",
       "      <td>3%</td>\n",
       "      <td>NaN</td>\n",
       "      <td>João Miguel, Bianca Comparato, Michel Gomes, R...</td>\n",
       "      <td>Brazil</td>\n",
       "      <td>August 14, 2020</td>\n",
       "      <td>2020</td>\n",
       "      <td>TV-MA</td>\n",
       "      <td>4 Seasons</td>\n",
       "      <td>International TV Shows, TV Dramas, TV Sci-Fi &amp;...</td>\n",
       "      <td>In a future where the elite inhabit an island ...</td>\n",
       "      <td>, TV Drama, TV Sci-Fi</td>\n",
       "    </tr>\n",
       "    <tr>\n",
       "      <th>1</th>\n",
       "      <td>s2</td>\n",
       "      <td>Movie</td>\n",
       "      <td>07:19</td>\n",
       "      <td>Jorge Michel Grau</td>\n",
       "      <td>Demián Bichir, Héctor Bonilla, Oscar Serrano, ...</td>\n",
       "      <td>Mexico</td>\n",
       "      <td>December 23, 2016</td>\n",
       "      <td>2016</td>\n",
       "      <td>TV-MA</td>\n",
       "      <td>93 min</td>\n",
       "      <td>Dramas, International Movies</td>\n",
       "      <td>After a devastating earthquake hits Mexico Cit...</td>\n",
       "      <td>Drama,</td>\n",
       "    </tr>\n",
       "  </tbody>\n",
       "</table>\n",
       "</div>"
      ],
      "text/plain": [
       "  show_id     type  title           director  \\\n",
       "0      s1  TV Show     3%                NaN   \n",
       "1      s2    Movie  07:19  Jorge Michel Grau   \n",
       "\n",
       "                                                cast country  \\\n",
       "0  João Miguel, Bianca Comparato, Michel Gomes, R...  Brazil   \n",
       "1  Demián Bichir, Héctor Bonilla, Oscar Serrano, ...  Mexico   \n",
       "\n",
       "          date_added  release_year rating   duration  \\\n",
       "0    August 14, 2020          2020  TV-MA  4 Seasons   \n",
       "1  December 23, 2016          2016  TV-MA     93 min   \n",
       "\n",
       "                                           listed_in  \\\n",
       "0  International TV Shows, TV Dramas, TV Sci-Fi &...   \n",
       "1                       Dramas, International Movies   \n",
       "\n",
       "                                         description                  genre  \n",
       "0  In a future where the elite inhabit an island ...  , TV Drama, TV Sci-Fi  \n",
       "1  After a devastating earthquake hits Mexico Cit...                Drama,   "
      ]
     },
     "execution_count": 7,
     "metadata": {},
     "output_type": "execute_result"
    }
   ],
   "source": [
    "df.head(2)"
   ]
  },
  {
   "cell_type": "code",
   "execution_count": 8,
   "metadata": {},
   "outputs": [
    {
     "data": {
      "text/plain": [
       "{'',\n",
       " ' ',\n",
       " ' Action',\n",
       " ' Anime Features',\n",
       " ' Children & Family',\n",
       " ' Classic',\n",
       " ' Comedy',\n",
       " ' Comedy & Talk Shows',\n",
       " ' Crime',\n",
       " ' Cult',\n",
       " ' Documenty',\n",
       " ' Drama',\n",
       " ' Horror',\n",
       " \" Kids' TV\",\n",
       " ' LGBTQ',\n",
       " ' Romance',\n",
       " ' Sci-Fi',\n",
       " ' Science&Nature',\n",
       " ' Spirituality',\n",
       " ' Sports ',\n",
       " ' TV Comedy',\n",
       " ' TV Drama',\n",
       " ' TV Sci-Fi',\n",
       " ' Thriller',\n",
       " 'Action',\n",
       " 'Anime Features',\n",
       " 'Children & Family',\n",
       " 'Classic',\n",
       " 'Comedy',\n",
       " 'Comedy & Talk Shows',\n",
       " 'Crime',\n",
       " 'Cult',\n",
       " 'Documenty',\n",
       " 'Drama',\n",
       " 'Horror',\n",
       " \"Kids' TV\",\n",
       " 'LGBTQ',\n",
       " 'Romance',\n",
       " 'Sci-Fi',\n",
       " 'Sports ',\n",
       " 'TV Comedy',\n",
       " 'TV Drama',\n",
       " 'TV Sci-Fi',\n",
       " 'Thriller'}"
      ]
     },
     "execution_count": 8,
     "metadata": {},
     "output_type": "execute_result"
    }
   ],
   "source": [
    "genres = df['genre'].to_list()\n",
    "my_string = ','.join(genres)\n",
    "genres = my_string.split(\",\")\n",
    "unique_genres = set(genres)\n",
    "unique_genres"
   ]
  },
  {
   "cell_type": "code",
   "execution_count": 9,
   "metadata": {},
   "outputs": [
    {
     "name": "stderr",
     "output_type": "stream",
     "text": [
      "<ipython-input-9-4e76cbfd9ce2>:2: SettingWithCopyWarning: \n",
      "A value is trying to be set on a copy of a slice from a DataFrame\n",
      "\n",
      "See the caveats in the documentation: https://pandas.pydata.org/pandas-docs/stable/user_guide/indexing.html#returning-a-view-versus-a-copy\n",
      "  df['genre'][i] = df['genre'][i].replace(\" \",\"\").replace(\",,\",\",\").replace('TVComedy','Comedy').replace('TVSci-Fi','Sci-Fi').replace('TVThriller','Thriller').replace(\"Kids'TV\",\"Kids\").replace(\"TVDrama\", \"Drama\").replace(\"Comedy&TalkShows\", \"Comedy\")\n"
     ]
    }
   ],
   "source": [
    "for i in range(len(df['genre'])):\n",
    "    df['genre'][i] = df['genre'][i].replace(\" \",\"\").replace(\",,\",\",\").replace('TVComedy','Comedy').replace('TVSci-Fi','Sci-Fi').replace('TVThriller','Thriller').replace(\"Kids'TV\",\"Kids\").replace(\"TVDrama\", \"Drama\").replace(\"Comedy&TalkShows\", \"Comedy\")"
   ]
  },
  {
   "cell_type": "code",
   "execution_count": 10,
   "metadata": {},
   "outputs": [
    {
     "name": "stderr",
     "output_type": "stream",
     "text": [
      "<ipython-input-10-b327f53f93d7>:2: SettingWithCopyWarning: \n",
      "A value is trying to be set on a copy of a slice from a DataFrame\n",
      "\n",
      "See the caveats in the documentation: https://pandas.pydata.org/pandas-docs/stable/user_guide/indexing.html#returning-a-view-versus-a-copy\n",
      "  df['genre'][i] = re.sub('^,+', '', df['genre'][i])\n",
      "<ipython-input-10-b327f53f93d7>:3: SettingWithCopyWarning: \n",
      "A value is trying to be set on a copy of a slice from a DataFrame\n",
      "\n",
      "See the caveats in the documentation: https://pandas.pydata.org/pandas-docs/stable/user_guide/indexing.html#returning-a-view-versus-a-copy\n",
      "  df['genre'][i] = re.sub(',+$', '', df['genre'][i])\n"
     ]
    }
   ],
   "source": [
    "for i in range(len(df['genre'])):\n",
    "    df['genre'][i] = re.sub('^,+', '', df['genre'][i])\n",
    "    df['genre'][i] = re.sub(',+$', '', df['genre'][i])"
   ]
  },
  {
   "cell_type": "code",
   "execution_count": 11,
   "metadata": {},
   "outputs": [],
   "source": [
    "# Dropping data which do not have any genre after data cleaning. About 255 rows has been dropped out of 7700 plus rows. "
   ]
  },
  {
   "cell_type": "code",
   "execution_count": 12,
   "metadata": {},
   "outputs": [],
   "source": [
    "df_new = df[~(df['genre']=='')]"
   ]
  },
  {
   "cell_type": "code",
   "execution_count": 13,
   "metadata": {},
   "outputs": [
    {
     "data": {
      "text/plain": [
       "(7529, 13)"
      ]
     },
     "execution_count": 13,
     "metadata": {},
     "output_type": "execute_result"
    }
   ],
   "source": [
    "df_new.shape"
   ]
  },
  {
   "cell_type": "code",
   "execution_count": 14,
   "metadata": {},
   "outputs": [
    {
     "data": {
      "text/plain": [
       "{'Action',\n",
       " 'AnimeFeatures',\n",
       " 'Children&Family',\n",
       " 'Classic',\n",
       " 'Comedy',\n",
       " 'Crime',\n",
       " 'Cult',\n",
       " 'Documenty',\n",
       " 'Drama',\n",
       " 'Horror',\n",
       " 'Kids',\n",
       " 'LGBTQ',\n",
       " 'Romance',\n",
       " 'Sci-Fi',\n",
       " 'Science&Nature',\n",
       " 'Spirituality',\n",
       " 'Sports',\n",
       " 'Thriller'}"
      ]
     },
     "execution_count": 14,
     "metadata": {},
     "output_type": "execute_result"
    }
   ],
   "source": [
    "# This shows the unique genres we created. \n",
    "genres = df_new['genre'].to_list()\n",
    "my_string = ','.join(genres)\n",
    "genres = my_string.split(\",\")\n",
    "unique_genres = set(genres)\n",
    "unique_genres"
   ]
  },
  {
   "cell_type": "code",
   "execution_count": 15,
   "metadata": {},
   "outputs": [
    {
     "name": "stderr",
     "output_type": "stream",
     "text": [
      "<ipython-input-15-96c4fad90315>:1: SettingWithCopyWarning: \n",
      "A value is trying to be set on a copy of a slice from a DataFrame.\n",
      "Try using .loc[row_indexer,col_indexer] = value instead\n",
      "\n",
      "See the caveats in the documentation: https://pandas.pydata.org/pandas-docs/stable/user_guide/indexing.html#returning-a-view-versus-a-copy\n",
      "  df_new['genre'] = df_new['genre'].str.split(\",\")\n"
     ]
    }
   ],
   "source": [
    "df_new['genre'] = df_new['genre'].str.split(\",\")"
   ]
  },
  {
   "cell_type": "code",
   "execution_count": null,
   "metadata": {},
   "outputs": [],
   "source": []
  },
  {
   "cell_type": "code",
   "execution_count": 16,
   "metadata": {},
   "outputs": [
    {
     "data": {
      "text/plain": [
       "'Drama'"
      ]
     },
     "execution_count": 16,
     "metadata": {},
     "output_type": "execute_result"
    }
   ],
   "source": [
    "df_new['genre'][0][0]"
   ]
  },
  {
   "cell_type": "code",
   "execution_count": 17,
   "metadata": {},
   "outputs": [
    {
     "data": {
      "text/plain": [
       "0"
      ]
     },
     "execution_count": 17,
     "metadata": {},
     "output_type": "execute_result"
    }
   ],
   "source": [
    "(df_new['genre']=='Comedy&TalkShows').sum()"
   ]
  },
  {
   "cell_type": "code",
   "execution_count": 18,
   "metadata": {},
   "outputs": [],
   "source": [
    "##Not needed \n",
    "#def nestedlist(list): \n",
    " #   return [[el] for el in list]"
   ]
  },
  {
   "cell_type": "code",
   "execution_count": 19,
   "metadata": {},
   "outputs": [],
   "source": [
    "#df_new['genre'] = nestedlist(df_new['genre'])"
   ]
  },
  {
   "cell_type": "code",
   "execution_count": 20,
   "metadata": {},
   "outputs": [
    {
     "data": {
      "text/html": [
       "<div>\n",
       "<style scoped>\n",
       "    .dataframe tbody tr th:only-of-type {\n",
       "        vertical-align: middle;\n",
       "    }\n",
       "\n",
       "    .dataframe tbody tr th {\n",
       "        vertical-align: top;\n",
       "    }\n",
       "\n",
       "    .dataframe thead th {\n",
       "        text-align: right;\n",
       "    }\n",
       "</style>\n",
       "<table border=\"1\" class=\"dataframe\">\n",
       "  <thead>\n",
       "    <tr style=\"text-align: right;\">\n",
       "      <th></th>\n",
       "      <th>show_id</th>\n",
       "      <th>type</th>\n",
       "      <th>title</th>\n",
       "      <th>director</th>\n",
       "      <th>cast</th>\n",
       "      <th>country</th>\n",
       "      <th>date_added</th>\n",
       "      <th>release_year</th>\n",
       "      <th>rating</th>\n",
       "      <th>duration</th>\n",
       "      <th>listed_in</th>\n",
       "      <th>description</th>\n",
       "      <th>genre</th>\n",
       "    </tr>\n",
       "  </thead>\n",
       "  <tbody>\n",
       "    <tr>\n",
       "      <th>0</th>\n",
       "      <td>s1</td>\n",
       "      <td>TV Show</td>\n",
       "      <td>3%</td>\n",
       "      <td>NaN</td>\n",
       "      <td>João Miguel, Bianca Comparato, Michel Gomes, R...</td>\n",
       "      <td>Brazil</td>\n",
       "      <td>August 14, 2020</td>\n",
       "      <td>2020</td>\n",
       "      <td>TV-MA</td>\n",
       "      <td>4 Seasons</td>\n",
       "      <td>International TV Shows, TV Dramas, TV Sci-Fi &amp;...</td>\n",
       "      <td>In a future where the elite inhabit an island ...</td>\n",
       "      <td>[Drama, Sci-Fi]</td>\n",
       "    </tr>\n",
       "    <tr>\n",
       "      <th>1</th>\n",
       "      <td>s2</td>\n",
       "      <td>Movie</td>\n",
       "      <td>07:19</td>\n",
       "      <td>Jorge Michel Grau</td>\n",
       "      <td>Demián Bichir, Héctor Bonilla, Oscar Serrano, ...</td>\n",
       "      <td>Mexico</td>\n",
       "      <td>December 23, 2016</td>\n",
       "      <td>2016</td>\n",
       "      <td>TV-MA</td>\n",
       "      <td>93 min</td>\n",
       "      <td>Dramas, International Movies</td>\n",
       "      <td>After a devastating earthquake hits Mexico Cit...</td>\n",
       "      <td>[Drama]</td>\n",
       "    </tr>\n",
       "    <tr>\n",
       "      <th>2</th>\n",
       "      <td>s3</td>\n",
       "      <td>Movie</td>\n",
       "      <td>23:59</td>\n",
       "      <td>Gilbert Chan</td>\n",
       "      <td>Tedd Chan, Stella Chung, Henley Hii, Lawrence ...</td>\n",
       "      <td>Singapore</td>\n",
       "      <td>December 20, 2018</td>\n",
       "      <td>2011</td>\n",
       "      <td>R</td>\n",
       "      <td>78 min</td>\n",
       "      <td>Horror Movies, International Movies</td>\n",
       "      <td>When an army recruit is found dead, his fellow...</td>\n",
       "      <td>[Horror]</td>\n",
       "    </tr>\n",
       "  </tbody>\n",
       "</table>\n",
       "</div>"
      ],
      "text/plain": [
       "  show_id     type  title           director  \\\n",
       "0      s1  TV Show     3%                NaN   \n",
       "1      s2    Movie  07:19  Jorge Michel Grau   \n",
       "2      s3    Movie  23:59       Gilbert Chan   \n",
       "\n",
       "                                                cast    country  \\\n",
       "0  João Miguel, Bianca Comparato, Michel Gomes, R...     Brazil   \n",
       "1  Demián Bichir, Héctor Bonilla, Oscar Serrano, ...     Mexico   \n",
       "2  Tedd Chan, Stella Chung, Henley Hii, Lawrence ...  Singapore   \n",
       "\n",
       "          date_added  release_year rating   duration  \\\n",
       "0    August 14, 2020          2020  TV-MA  4 Seasons   \n",
       "1  December 23, 2016          2016  TV-MA     93 min   \n",
       "2  December 20, 2018          2011      R     78 min   \n",
       "\n",
       "                                           listed_in  \\\n",
       "0  International TV Shows, TV Dramas, TV Sci-Fi &...   \n",
       "1                       Dramas, International Movies   \n",
       "2                Horror Movies, International Movies   \n",
       "\n",
       "                                         description            genre  \n",
       "0  In a future where the elite inhabit an island ...  [Drama, Sci-Fi]  \n",
       "1  After a devastating earthquake hits Mexico Cit...          [Drama]  \n",
       "2  When an army recruit is found dead, his fellow...         [Horror]  "
      ]
     },
     "execution_count": 20,
     "metadata": {},
     "output_type": "execute_result"
    }
   ],
   "source": [
    "df_new.head(3)"
   ]
  },
  {
   "cell_type": "code",
   "execution_count": 21,
   "metadata": {},
   "outputs": [
    {
     "data": {
      "text/plain": [
       "['Drama', 'Sci-Fi']"
      ]
     },
     "execution_count": 21,
     "metadata": {},
     "output_type": "execute_result"
    }
   ],
   "source": [
    "df_new.genre[0]"
   ]
  },
  {
   "cell_type": "code",
   "execution_count": 22,
   "metadata": {},
   "outputs": [],
   "source": [
    "df.to_csv(\"newdata1.csv\")"
   ]
  },
  {
   "cell_type": "markdown",
   "metadata": {},
   "source": [
    "# Step 2 : EDA"
   ]
  },
  {
   "cell_type": "code",
   "execution_count": 23,
   "metadata": {},
   "outputs": [],
   "source": [
    "#importing packages for exploratory data analysis and modeling \n",
    "\n",
    "import json\n",
    "import nltk\n",
    "import re\n",
    "import csv\n",
    "import matplotlib.pyplot as plt \n",
    "import seaborn as sns\n",
    "from tqdm import tqdm\n",
    "from sklearn.feature_extraction.text import TfidfVectorizer\n",
    "from sklearn.model_selection import train_test_split\n",
    "\n",
    "%matplotlib inline\n",
    "pd.set_option('display.max_colwidth', 300)"
   ]
  },
  {
   "cell_type": "code",
   "execution_count": 24,
   "metadata": {},
   "outputs": [],
   "source": [
    "genres = df_new['genre'].to_list()"
   ]
  },
  {
   "cell_type": "code",
   "execution_count": 304,
   "metadata": {},
   "outputs": [
    {
     "data": {
      "text/plain": [
       "18"
      ]
     },
     "execution_count": 304,
     "metadata": {},
     "output_type": "execute_result"
    }
   ],
   "source": [
    "# get all genre tags in a list\n",
    "all_genres = sum(genres,[])\n",
    "len(set(all_genres))"
   ]
  },
  {
   "cell_type": "code",
   "execution_count": 305,
   "metadata": {},
   "outputs": [
    {
     "data": {
      "text/html": [
       "<div>\n",
       "<style scoped>\n",
       "    .dataframe tbody tr th:only-of-type {\n",
       "        vertical-align: middle;\n",
       "    }\n",
       "\n",
       "    .dataframe tbody tr th {\n",
       "        vertical-align: top;\n",
       "    }\n",
       "\n",
       "    .dataframe thead th {\n",
       "        text-align: right;\n",
       "    }\n",
       "</style>\n",
       "<table border=\"1\" class=\"dataframe\">\n",
       "  <thead>\n",
       "    <tr style=\"text-align: right;\">\n",
       "      <th></th>\n",
       "      <th>show_id</th>\n",
       "      <th>type</th>\n",
       "      <th>title</th>\n",
       "      <th>director</th>\n",
       "      <th>cast</th>\n",
       "      <th>country</th>\n",
       "      <th>date_added</th>\n",
       "      <th>release_year</th>\n",
       "      <th>rating</th>\n",
       "      <th>duration</th>\n",
       "      <th>listed_in</th>\n",
       "      <th>description</th>\n",
       "      <th>genre</th>\n",
       "      <th>clean_desc</th>\n",
       "      <th>clean_desc_nostop</th>\n",
       "    </tr>\n",
       "  </thead>\n",
       "  <tbody>\n",
       "    <tr>\n",
       "      <th>0</th>\n",
       "      <td>s1</td>\n",
       "      <td>TV Show</td>\n",
       "      <td>3%</td>\n",
       "      <td>NaN</td>\n",
       "      <td>João Miguel, Bianca Comparato, Michel Gomes, Rodolfo Valente, Vaneza Oliveira, Rafael Lozano, Viviane Porto, Mel Fronckowiak, Sergio Mamberti, Zezé Motta, Celso Frateschi</td>\n",
       "      <td>Brazil</td>\n",
       "      <td>August 14, 2020</td>\n",
       "      <td>2020</td>\n",
       "      <td>TV-MA</td>\n",
       "      <td>4 Seasons</td>\n",
       "      <td>International TV Shows, TV Dramas, TV Sci-Fi &amp; Fantasy</td>\n",
       "      <td>In a future where the elite inhabit an island paradise far from the crowded slums, you get one chance to join the 3% saved from squalor.</td>\n",
       "      <td>[Drama, Sci-Fi]</td>\n",
       "      <td>in a future where the elite inhabit an island paradise far from the crowded slums you get one chance to join the 3 saved from squalor</td>\n",
       "      <td>future elite inhabit island paradise far crowded slums get one chance join 3 saved squalor</td>\n",
       "    </tr>\n",
       "    <tr>\n",
       "      <th>1</th>\n",
       "      <td>s2</td>\n",
       "      <td>Movie</td>\n",
       "      <td>07:19</td>\n",
       "      <td>Jorge Michel Grau</td>\n",
       "      <td>Demián Bichir, Héctor Bonilla, Oscar Serrano, Azalia Ortiz, Octavio Michel, Carmen Beato</td>\n",
       "      <td>Mexico</td>\n",
       "      <td>December 23, 2016</td>\n",
       "      <td>2016</td>\n",
       "      <td>TV-MA</td>\n",
       "      <td>93 min</td>\n",
       "      <td>Dramas, International Movies</td>\n",
       "      <td>After a devastating earthquake hits Mexico City, trapped survivors from all walks of life wait to be rescued while trying desperately to stay alive.</td>\n",
       "      <td>[Drama]</td>\n",
       "      <td>after a devastating earthquake hits mexico city trapped survivors from all walks of life wait to be rescued while trying desperately to stay alive</td>\n",
       "      <td>devastating earthquake hits mexico city trapped survivors walks life wait rescued trying desperately stay alive</td>\n",
       "    </tr>\n",
       "    <tr>\n",
       "      <th>2</th>\n",
       "      <td>s3</td>\n",
       "      <td>Movie</td>\n",
       "      <td>23:59</td>\n",
       "      <td>Gilbert Chan</td>\n",
       "      <td>Tedd Chan, Stella Chung, Henley Hii, Lawrence Koh, Tommy Kuan, Josh Lai, Mark Lee, Susan Leong, Benjamin Lim</td>\n",
       "      <td>Singapore</td>\n",
       "      <td>December 20, 2018</td>\n",
       "      <td>2011</td>\n",
       "      <td>R</td>\n",
       "      <td>78 min</td>\n",
       "      <td>Horror Movies, International Movies</td>\n",
       "      <td>When an army recruit is found dead, his fellow soldiers are forced to confront a terrifying secret that's haunting their jungle island training camp.</td>\n",
       "      <td>[Horror]</td>\n",
       "      <td>when an army recruit is found dead his fellow soldiers are forced to confront a terrifying secret thats haunting their jungle island training camp</td>\n",
       "      <td>army recruit found dead fellow soldiers forced confront terrifying secret thats haunting jungle island training camp</td>\n",
       "    </tr>\n",
       "    <tr>\n",
       "      <th>3</th>\n",
       "      <td>s4</td>\n",
       "      <td>Movie</td>\n",
       "      <td>9</td>\n",
       "      <td>Shane Acker</td>\n",
       "      <td>Elijah Wood, John C. Reilly, Jennifer Connelly, Christopher Plummer, Crispin Glover, Martin Landau, Fred Tatasciore, Alan Oppenheimer, Tom Kane</td>\n",
       "      <td>United States</td>\n",
       "      <td>November 16, 2017</td>\n",
       "      <td>2009</td>\n",
       "      <td>PG-13</td>\n",
       "      <td>80 min</td>\n",
       "      <td>Action &amp; Adventure, Independent Movies, Sci-Fi &amp; Fantasy</td>\n",
       "      <td>In a postapocalyptic world, rag-doll robots hide in fear from dangerous machines out to exterminate them, until a brave newcomer joins the group.</td>\n",
       "      <td>[Action, Sci-Fi]</td>\n",
       "      <td>in a postapocalyptic world rag doll robots hide in fear from dangerous machines out to exterminate them until a brave newcomer joins the group</td>\n",
       "      <td>postapocalyptic world rag doll robots hide fear dangerous machines exterminate brave newcomer joins group</td>\n",
       "    </tr>\n",
       "    <tr>\n",
       "      <th>4</th>\n",
       "      <td>s5</td>\n",
       "      <td>Movie</td>\n",
       "      <td>21</td>\n",
       "      <td>Robert Luketic</td>\n",
       "      <td>Jim Sturgess, Kevin Spacey, Kate Bosworth, Aaron Yoo, Liza Lapira, Jacob Pitts, Laurence Fishburne, Jack McGee, Josh Gad, Sam Golzari, Helen Carey, Jack Gilpin</td>\n",
       "      <td>United States</td>\n",
       "      <td>January 1, 2020</td>\n",
       "      <td>2008</td>\n",
       "      <td>PG-13</td>\n",
       "      <td>123 min</td>\n",
       "      <td>Dramas</td>\n",
       "      <td>A brilliant group of students become card-counting experts with the intent of swindling millions out of Las Vegas casinos by playing blackjack.</td>\n",
       "      <td>[Drama]</td>\n",
       "      <td>a brilliant group of students become card counting experts with the intent of swindling millions out of las vegas casinos by playing blackjack</td>\n",
       "      <td>brilliant group students become card counting experts intent swindling millions las vegas casinos playing blackjack</td>\n",
       "    </tr>\n",
       "  </tbody>\n",
       "</table>\n",
       "</div>"
      ],
      "text/plain": [
       "  show_id     type  title           director  \\\n",
       "0      s1  TV Show     3%                NaN   \n",
       "1      s2    Movie  07:19  Jorge Michel Grau   \n",
       "2      s3    Movie  23:59       Gilbert Chan   \n",
       "3      s4    Movie      9        Shane Acker   \n",
       "4      s5    Movie     21     Robert Luketic   \n",
       "\n",
       "                                                                                                                                                                         cast  \\\n",
       "0  João Miguel, Bianca Comparato, Michel Gomes, Rodolfo Valente, Vaneza Oliveira, Rafael Lozano, Viviane Porto, Mel Fronckowiak, Sergio Mamberti, Zezé Motta, Celso Frateschi   \n",
       "1                                                                                    Demián Bichir, Héctor Bonilla, Oscar Serrano, Azalia Ortiz, Octavio Michel, Carmen Beato   \n",
       "2                                                                Tedd Chan, Stella Chung, Henley Hii, Lawrence Koh, Tommy Kuan, Josh Lai, Mark Lee, Susan Leong, Benjamin Lim   \n",
       "3                             Elijah Wood, John C. Reilly, Jennifer Connelly, Christopher Plummer, Crispin Glover, Martin Landau, Fred Tatasciore, Alan Oppenheimer, Tom Kane   \n",
       "4             Jim Sturgess, Kevin Spacey, Kate Bosworth, Aaron Yoo, Liza Lapira, Jacob Pitts, Laurence Fishburne, Jack McGee, Josh Gad, Sam Golzari, Helen Carey, Jack Gilpin   \n",
       "\n",
       "         country         date_added  release_year rating   duration  \\\n",
       "0         Brazil    August 14, 2020          2020  TV-MA  4 Seasons   \n",
       "1         Mexico  December 23, 2016          2016  TV-MA     93 min   \n",
       "2      Singapore  December 20, 2018          2011      R     78 min   \n",
       "3  United States  November 16, 2017          2009  PG-13     80 min   \n",
       "4  United States    January 1, 2020          2008  PG-13    123 min   \n",
       "\n",
       "                                                  listed_in  \\\n",
       "0    International TV Shows, TV Dramas, TV Sci-Fi & Fantasy   \n",
       "1                              Dramas, International Movies   \n",
       "2                       Horror Movies, International Movies   \n",
       "3  Action & Adventure, Independent Movies, Sci-Fi & Fantasy   \n",
       "4                                                    Dramas   \n",
       "\n",
       "                                                                                                                                             description  \\\n",
       "0               In a future where the elite inhabit an island paradise far from the crowded slums, you get one chance to join the 3% saved from squalor.   \n",
       "1   After a devastating earthquake hits Mexico City, trapped survivors from all walks of life wait to be rescued while trying desperately to stay alive.   \n",
       "2  When an army recruit is found dead, his fellow soldiers are forced to confront a terrifying secret that's haunting their jungle island training camp.   \n",
       "3      In a postapocalyptic world, rag-doll robots hide in fear from dangerous machines out to exterminate them, until a brave newcomer joins the group.   \n",
       "4        A brilliant group of students become card-counting experts with the intent of swindling millions out of Las Vegas casinos by playing blackjack.   \n",
       "\n",
       "              genre  \\\n",
       "0   [Drama, Sci-Fi]   \n",
       "1           [Drama]   \n",
       "2          [Horror]   \n",
       "3  [Action, Sci-Fi]   \n",
       "4           [Drama]   \n",
       "\n",
       "                                                                                                                                           clean_desc  \\\n",
       "0               in a future where the elite inhabit an island paradise far from the crowded slums you get one chance to join the 3 saved from squalor   \n",
       "1  after a devastating earthquake hits mexico city trapped survivors from all walks of life wait to be rescued while trying desperately to stay alive   \n",
       "2  when an army recruit is found dead his fellow soldiers are forced to confront a terrifying secret thats haunting their jungle island training camp   \n",
       "3      in a postapocalyptic world rag doll robots hide in fear from dangerous machines out to exterminate them until a brave newcomer joins the group   \n",
       "4      a brilliant group of students become card counting experts with the intent of swindling millions out of las vegas casinos by playing blackjack   \n",
       "\n",
       "                                                                                                      clean_desc_nostop  \n",
       "0                            future elite inhabit island paradise far crowded slums get one chance join 3 saved squalor  \n",
       "1       devastating earthquake hits mexico city trapped survivors walks life wait rescued trying desperately stay alive  \n",
       "2  army recruit found dead fellow soldiers forced confront terrifying secret thats haunting jungle island training camp  \n",
       "3             postapocalyptic world rag doll robots hide fear dangerous machines exterminate brave newcomer joins group  \n",
       "4   brilliant group students become card counting experts intent swindling millions las vegas casinos playing blackjack  "
      ]
     },
     "execution_count": 305,
     "metadata": {},
     "output_type": "execute_result"
    }
   ],
   "source": [
    "df_new.head()"
   ]
  },
  {
   "cell_type": "code",
   "execution_count": 303,
   "metadata": {},
   "outputs": [],
   "source": [
    "all_genres = nltk.FreqDist(sum(genres,[])) \n",
    "\n",
    "# create dataframe\n",
    "all_genres_df = pd.DataFrame({'Genre': list(all_genres.keys()), \n",
    "                              'Count': list(all_genres.values())})"
   ]
  },
  {
   "cell_type": "code",
   "execution_count": 29,
   "metadata": {},
   "outputs": [
    {
     "data": {
      "text/html": [
       "<div>\n",
       "<style scoped>\n",
       "    .dataframe tbody tr th:only-of-type {\n",
       "        vertical-align: middle;\n",
       "    }\n",
       "\n",
       "    .dataframe tbody tr th {\n",
       "        vertical-align: top;\n",
       "    }\n",
       "\n",
       "    .dataframe thead th {\n",
       "        text-align: right;\n",
       "    }\n",
       "</style>\n",
       "<table border=\"1\" class=\"dataframe\">\n",
       "  <thead>\n",
       "    <tr style=\"text-align: right;\">\n",
       "      <th></th>\n",
       "      <th>Genre</th>\n",
       "      <th>Count</th>\n",
       "    </tr>\n",
       "  </thead>\n",
       "  <tbody>\n",
       "    <tr>\n",
       "      <th>0</th>\n",
       "      <td>Drama</td>\n",
       "      <td>2810</td>\n",
       "    </tr>\n",
       "    <tr>\n",
       "      <th>1</th>\n",
       "      <td>Sci-Fi</td>\n",
       "      <td>294</td>\n",
       "    </tr>\n",
       "    <tr>\n",
       "      <th>2</th>\n",
       "      <td>Horror</td>\n",
       "      <td>381</td>\n",
       "    </tr>\n",
       "    <tr>\n",
       "      <th>3</th>\n",
       "      <td>Action</td>\n",
       "      <td>871</td>\n",
       "    </tr>\n",
       "    <tr>\n",
       "      <th>4</th>\n",
       "      <td>Thriller</td>\n",
       "      <td>541</td>\n",
       "    </tr>\n",
       "    <tr>\n",
       "      <th>5</th>\n",
       "      <td>Crime</td>\n",
       "      <td>427</td>\n",
       "    </tr>\n",
       "    <tr>\n",
       "      <th>6</th>\n",
       "      <td>Documenty</td>\n",
       "      <td>1139</td>\n",
       "    </tr>\n",
       "    <tr>\n",
       "      <th>7</th>\n",
       "      <td>Sports</td>\n",
       "      <td>196</td>\n",
       "    </tr>\n",
       "    <tr>\n",
       "      <th>8</th>\n",
       "      <td>Comedy</td>\n",
       "      <td>2377</td>\n",
       "    </tr>\n",
       "    <tr>\n",
       "      <th>9</th>\n",
       "      <td>AnimeFeatures</td>\n",
       "      <td>205</td>\n",
       "    </tr>\n",
       "    <tr>\n",
       "      <th>10</th>\n",
       "      <td>Romance</td>\n",
       "      <td>864</td>\n",
       "    </tr>\n",
       "    <tr>\n",
       "      <th>11</th>\n",
       "      <td>Science&amp;Nature</td>\n",
       "      <td>85</td>\n",
       "    </tr>\n",
       "    <tr>\n",
       "      <th>12</th>\n",
       "      <td>LGBTQ</td>\n",
       "      <td>90</td>\n",
       "    </tr>\n",
       "    <tr>\n",
       "      <th>13</th>\n",
       "      <td>Spirituality</td>\n",
       "      <td>57</td>\n",
       "    </tr>\n",
       "    <tr>\n",
       "      <th>14</th>\n",
       "      <td>Kids</td>\n",
       "      <td>414</td>\n",
       "    </tr>\n",
       "    <tr>\n",
       "      <th>15</th>\n",
       "      <td>Children&amp;Family</td>\n",
       "      <td>532</td>\n",
       "    </tr>\n",
       "    <tr>\n",
       "      <th>16</th>\n",
       "      <td>Classic</td>\n",
       "      <td>130</td>\n",
       "    </tr>\n",
       "    <tr>\n",
       "      <th>17</th>\n",
       "      <td>Cult</td>\n",
       "      <td>59</td>\n",
       "    </tr>\n",
       "  </tbody>\n",
       "</table>\n",
       "</div>"
      ],
      "text/plain": [
       "              Genre  Count\n",
       "0             Drama   2810\n",
       "1            Sci-Fi    294\n",
       "2            Horror    381\n",
       "3            Action    871\n",
       "4          Thriller    541\n",
       "5             Crime    427\n",
       "6         Documenty   1139\n",
       "7            Sports    196\n",
       "8            Comedy   2377\n",
       "9     AnimeFeatures    205\n",
       "10          Romance    864\n",
       "11   Science&Nature     85\n",
       "12            LGBTQ     90\n",
       "13     Spirituality     57\n",
       "14             Kids    414\n",
       "15  Children&Family    532\n",
       "16          Classic    130\n",
       "17             Cult     59"
      ]
     },
     "execution_count": 29,
     "metadata": {},
     "output_type": "execute_result"
    }
   ],
   "source": [
    "all_genres_df"
   ]
  },
  {
   "cell_type": "code",
   "execution_count": 30,
   "metadata": {},
   "outputs": [
    {
     "data": {
      "image/png": "[encoded data removed]",
      "text/plain": [
       "<Figure size 864x1080 with 1 Axes>"
      ]
     },
     "metadata": {
      "needs_background": "light"
     },
     "output_type": "display_data"
    }
   ],
   "source": [
    "g = all_genres_df.nlargest(columns=\"Count\", n = 20) \n",
    "plt.figure(figsize=(12,15)) \n",
    "ax = sns.barplot(data=g, x= \"Count\", y = \"Genre\") \n",
    "ax.set(ylabel = 'Count') \n",
    "plt.show()"
   ]
  },
  {
   "cell_type": "markdown",
   "metadata": {},
   "source": [
    "# Cleaning the text in Description which we would use to predict the genre"
   ]
  },
  {
   "cell_type": "code",
   "execution_count": 31,
   "metadata": {},
   "outputs": [],
   "source": [
    "# function for text cleaning \n",
    "def clean_text(text):\n",
    "    # remove backslash-apostrophe \n",
    "    text = re.sub(\"\\'\", \"\", text) \n",
    "    # remove everything except alphabets \n",
    "    text = re.sub(\"[^a-zA-Z0-9]\",\" \",text) \n",
    "    # remove whitespaces \n",
    "    text = ' '.join(text.split()) \n",
    "    # convert text to lowercase \n",
    "    text = text.lower() \n",
    "    \n",
    "    return text"
   ]
  },
  {
   "cell_type": "code",
   "execution_count": 32,
   "metadata": {},
   "outputs": [
    {
     "name": "stderr",
     "output_type": "stream",
     "text": [
      "<ipython-input-32-79bc9a60b467>:1: SettingWithCopyWarning: \n",
      "A value is trying to be set on a copy of a slice from a DataFrame.\n",
      "Try using .loc[row_indexer,col_indexer] = value instead\n",
      "\n",
      "See the caveats in the documentation: https://pandas.pydata.org/pandas-docs/stable/user_guide/indexing.html#returning-a-view-versus-a-copy\n",
      "  df_new['clean_desc'] = df_new['description'].apply(lambda x: clean_text(x))\n"
     ]
    }
   ],
   "source": [
    "df_new['clean_desc'] = df_new['description'].apply(lambda x: clean_text(x))"
   ]
  },
  {
   "cell_type": "code",
   "execution_count": 33,
   "metadata": {},
   "outputs": [
    {
     "data": {
      "text/html": [
       "<div>\n",
       "<style scoped>\n",
       "    .dataframe tbody tr th:only-of-type {\n",
       "        vertical-align: middle;\n",
       "    }\n",
       "\n",
       "    .dataframe tbody tr th {\n",
       "        vertical-align: top;\n",
       "    }\n",
       "\n",
       "    .dataframe thead th {\n",
       "        text-align: right;\n",
       "    }\n",
       "</style>\n",
       "<table border=\"1\" class=\"dataframe\">\n",
       "  <thead>\n",
       "    <tr style=\"text-align: right;\">\n",
       "      <th></th>\n",
       "      <th>show_id</th>\n",
       "      <th>type</th>\n",
       "      <th>title</th>\n",
       "      <th>director</th>\n",
       "      <th>cast</th>\n",
       "      <th>country</th>\n",
       "      <th>date_added</th>\n",
       "      <th>release_year</th>\n",
       "      <th>rating</th>\n",
       "      <th>duration</th>\n",
       "      <th>listed_in</th>\n",
       "      <th>description</th>\n",
       "      <th>genre</th>\n",
       "      <th>clean_desc</th>\n",
       "    </tr>\n",
       "  </thead>\n",
       "  <tbody>\n",
       "    <tr>\n",
       "      <th>0</th>\n",
       "      <td>s1</td>\n",
       "      <td>TV Show</td>\n",
       "      <td>3%</td>\n",
       "      <td>NaN</td>\n",
       "      <td>João Miguel, Bianca Comparato, Michel Gomes, Rodolfo Valente, Vaneza Oliveira, Rafael Lozano, Viviane Porto, Mel Fronckowiak, Sergio Mamberti, Zezé Motta, Celso Frateschi</td>\n",
       "      <td>Brazil</td>\n",
       "      <td>August 14, 2020</td>\n",
       "      <td>2020</td>\n",
       "      <td>TV-MA</td>\n",
       "      <td>4 Seasons</td>\n",
       "      <td>International TV Shows, TV Dramas, TV Sci-Fi &amp; Fantasy</td>\n",
       "      <td>In a future where the elite inhabit an island paradise far from the crowded slums, you get one chance to join the 3% saved from squalor.</td>\n",
       "      <td>[Drama, Sci-Fi]</td>\n",
       "      <td>in a future where the elite inhabit an island paradise far from the crowded slums you get one chance to join the 3 saved from squalor</td>\n",
       "    </tr>\n",
       "    <tr>\n",
       "      <th>1</th>\n",
       "      <td>s2</td>\n",
       "      <td>Movie</td>\n",
       "      <td>07:19</td>\n",
       "      <td>Jorge Michel Grau</td>\n",
       "      <td>Demián Bichir, Héctor Bonilla, Oscar Serrano, Azalia Ortiz, Octavio Michel, Carmen Beato</td>\n",
       "      <td>Mexico</td>\n",
       "      <td>December 23, 2016</td>\n",
       "      <td>2016</td>\n",
       "      <td>TV-MA</td>\n",
       "      <td>93 min</td>\n",
       "      <td>Dramas, International Movies</td>\n",
       "      <td>After a devastating earthquake hits Mexico City, trapped survivors from all walks of life wait to be rescued while trying desperately to stay alive.</td>\n",
       "      <td>[Drama]</td>\n",
       "      <td>after a devastating earthquake hits mexico city trapped survivors from all walks of life wait to be rescued while trying desperately to stay alive</td>\n",
       "    </tr>\n",
       "    <tr>\n",
       "      <th>2</th>\n",
       "      <td>s3</td>\n",
       "      <td>Movie</td>\n",
       "      <td>23:59</td>\n",
       "      <td>Gilbert Chan</td>\n",
       "      <td>Tedd Chan, Stella Chung, Henley Hii, Lawrence Koh, Tommy Kuan, Josh Lai, Mark Lee, Susan Leong, Benjamin Lim</td>\n",
       "      <td>Singapore</td>\n",
       "      <td>December 20, 2018</td>\n",
       "      <td>2011</td>\n",
       "      <td>R</td>\n",
       "      <td>78 min</td>\n",
       "      <td>Horror Movies, International Movies</td>\n",
       "      <td>When an army recruit is found dead, his fellow soldiers are forced to confront a terrifying secret that's haunting their jungle island training camp.</td>\n",
       "      <td>[Horror]</td>\n",
       "      <td>when an army recruit is found dead his fellow soldiers are forced to confront a terrifying secret thats haunting their jungle island training camp</td>\n",
       "    </tr>\n",
       "  </tbody>\n",
       "</table>\n",
       "</div>"
      ],
      "text/plain": [
       "  show_id     type  title           director  \\\n",
       "0      s1  TV Show     3%                NaN   \n",
       "1      s2    Movie  07:19  Jorge Michel Grau   \n",
       "2      s3    Movie  23:59       Gilbert Chan   \n",
       "\n",
       "                                                                                                                                                                         cast  \\\n",
       "0  João Miguel, Bianca Comparato, Michel Gomes, Rodolfo Valente, Vaneza Oliveira, Rafael Lozano, Viviane Porto, Mel Fronckowiak, Sergio Mamberti, Zezé Motta, Celso Frateschi   \n",
       "1                                                                                    Demián Bichir, Héctor Bonilla, Oscar Serrano, Azalia Ortiz, Octavio Michel, Carmen Beato   \n",
       "2                                                                Tedd Chan, Stella Chung, Henley Hii, Lawrence Koh, Tommy Kuan, Josh Lai, Mark Lee, Susan Leong, Benjamin Lim   \n",
       "\n",
       "     country         date_added  release_year rating   duration  \\\n",
       "0     Brazil    August 14, 2020          2020  TV-MA  4 Seasons   \n",
       "1     Mexico  December 23, 2016          2016  TV-MA     93 min   \n",
       "2  Singapore  December 20, 2018          2011      R     78 min   \n",
       "\n",
       "                                                listed_in  \\\n",
       "0  International TV Shows, TV Dramas, TV Sci-Fi & Fantasy   \n",
       "1                            Dramas, International Movies   \n",
       "2                     Horror Movies, International Movies   \n",
       "\n",
       "                                                                                                                                             description  \\\n",
       "0               In a future where the elite inhabit an island paradise far from the crowded slums, you get one chance to join the 3% saved from squalor.   \n",
       "1   After a devastating earthquake hits Mexico City, trapped survivors from all walks of life wait to be rescued while trying desperately to stay alive.   \n",
       "2  When an army recruit is found dead, his fellow soldiers are forced to confront a terrifying secret that's haunting their jungle island training camp.   \n",
       "\n",
       "             genre  \\\n",
       "0  [Drama, Sci-Fi]   \n",
       "1          [Drama]   \n",
       "2         [Horror]   \n",
       "\n",
       "                                                                                                                                           clean_desc  \n",
       "0               in a future where the elite inhabit an island paradise far from the crowded slums you get one chance to join the 3 saved from squalor  \n",
       "1  after a devastating earthquake hits mexico city trapped survivors from all walks of life wait to be rescued while trying desperately to stay alive  \n",
       "2  when an army recruit is found dead his fellow soldiers are forced to confront a terrifying secret thats haunting their jungle island training camp  "
      ]
     },
     "execution_count": 33,
     "metadata": {},
     "output_type": "execute_result"
    }
   ],
   "source": [
    "df_new.head(3)"
   ]
  },
  {
   "cell_type": "code",
   "execution_count": 34,
   "metadata": {},
   "outputs": [
    {
     "data": {
      "image/png": "[encoded data removed]",
      "text/plain": [
       "<Figure size 864x1080 with 1 Axes>"
      ]
     },
     "metadata": {
      "needs_background": "light"
     },
     "output_type": "display_data"
    }
   ],
   "source": [
    "def freq_words(x, terms = 30): \n",
    "  all_words = ' '.join([text for text in x]) \n",
    "  all_words = all_words.split() \n",
    "  fdist = nltk.FreqDist(all_words) \n",
    "  words_df = pd.DataFrame({'word':list(fdist.keys()), 'count':list(fdist.values())}) \n",
    "  \n",
    "  # selecting top 20 most frequent words \n",
    "  d = words_df.nlargest(columns=\"count\", n = terms) \n",
    "  \n",
    "  # visualize words and frequencies\n",
    "  plt.figure(figsize=(12,15)) \n",
    "  ax = sns.barplot(data=d, x= \"count\", y = \"word\") \n",
    "  ax.set(ylabel = 'Word') \n",
    "  plt.show()\n",
    "  \n",
    "# print 100 most frequent words \n",
    "freq_words(df_new['clean_desc'], 100)"
   ]
  },
  {
   "cell_type": "code",
   "execution_count": 35,
   "metadata": {},
   "outputs": [
    {
     "name": "stderr",
     "output_type": "stream",
     "text": [
      "[nltk_data] Downloading package stopwords to\n",
      "[nltk_data]     C:\\Users\\DURGESH\\AppData\\Roaming\\nltk_data...\n",
      "[nltk_data]   Package stopwords is already up-to-date!\n"
     ]
    },
    {
     "data": {
      "text/plain": [
       "True"
      ]
     },
     "execution_count": 35,
     "metadata": {},
     "output_type": "execute_result"
    }
   ],
   "source": [
    "nltk.download('stopwords')"
   ]
  },
  {
   "cell_type": "code",
   "execution_count": 36,
   "metadata": {},
   "outputs": [
    {
     "name": "stderr",
     "output_type": "stream",
     "text": [
      "<ipython-input-36-4812bbbcfb40>:9: SettingWithCopyWarning: \n",
      "A value is trying to be set on a copy of a slice from a DataFrame.\n",
      "Try using .loc[row_indexer,col_indexer] = value instead\n",
      "\n",
      "See the caveats in the documentation: https://pandas.pydata.org/pandas-docs/stable/user_guide/indexing.html#returning-a-view-versus-a-copy\n",
      "  df_new['clean_desc_nostop'] = df_new['clean_desc'].apply(lambda x: remove_stopwords(x))\n"
     ]
    }
   ],
   "source": [
    "from nltk.corpus import stopwords\n",
    "stop_words = set(stopwords.words('english'))\n",
    "\n",
    "# function to remove stopwords\n",
    "def remove_stopwords(text):\n",
    "    no_stopword_text = [w for w in text.split() if not w in stop_words]\n",
    "    return ' '.join(no_stopword_text)\n",
    "\n",
    "df_new['clean_desc_nostop'] = df_new['clean_desc'].apply(lambda x: remove_stopwords(x))"
   ]
  },
  {
   "cell_type": "code",
   "execution_count": 37,
   "metadata": {},
   "outputs": [
    {
     "data": {
      "text/html": [
       "<div>\n",
       "<style scoped>\n",
       "    .dataframe tbody tr th:only-of-type {\n",
       "        vertical-align: middle;\n",
       "    }\n",
       "\n",
       "    .dataframe tbody tr th {\n",
       "        vertical-align: top;\n",
       "    }\n",
       "\n",
       "    .dataframe thead th {\n",
       "        text-align: right;\n",
       "    }\n",
       "</style>\n",
       "<table border=\"1\" class=\"dataframe\">\n",
       "  <thead>\n",
       "    <tr style=\"text-align: right;\">\n",
       "      <th></th>\n",
       "      <th>show_id</th>\n",
       "      <th>type</th>\n",
       "      <th>title</th>\n",
       "      <th>director</th>\n",
       "      <th>cast</th>\n",
       "      <th>country</th>\n",
       "      <th>date_added</th>\n",
       "      <th>release_year</th>\n",
       "      <th>rating</th>\n",
       "      <th>duration</th>\n",
       "      <th>listed_in</th>\n",
       "      <th>description</th>\n",
       "      <th>genre</th>\n",
       "      <th>clean_desc</th>\n",
       "      <th>clean_desc_nostop</th>\n",
       "    </tr>\n",
       "  </thead>\n",
       "  <tbody>\n",
       "    <tr>\n",
       "      <th>0</th>\n",
       "      <td>s1</td>\n",
       "      <td>TV Show</td>\n",
       "      <td>3%</td>\n",
       "      <td>NaN</td>\n",
       "      <td>João Miguel, Bianca Comparato, Michel Gomes, Rodolfo Valente, Vaneza Oliveira, Rafael Lozano, Viviane Porto, Mel Fronckowiak, Sergio Mamberti, Zezé Motta, Celso Frateschi</td>\n",
       "      <td>Brazil</td>\n",
       "      <td>August 14, 2020</td>\n",
       "      <td>2020</td>\n",
       "      <td>TV-MA</td>\n",
       "      <td>4 Seasons</td>\n",
       "      <td>International TV Shows, TV Dramas, TV Sci-Fi &amp; Fantasy</td>\n",
       "      <td>In a future where the elite inhabit an island paradise far from the crowded slums, you get one chance to join the 3% saved from squalor.</td>\n",
       "      <td>[Drama, Sci-Fi]</td>\n",
       "      <td>in a future where the elite inhabit an island paradise far from the crowded slums you get one chance to join the 3 saved from squalor</td>\n",
       "      <td>future elite inhabit island paradise far crowded slums get one chance join 3 saved squalor</td>\n",
       "    </tr>\n",
       "    <tr>\n",
       "      <th>1</th>\n",
       "      <td>s2</td>\n",
       "      <td>Movie</td>\n",
       "      <td>07:19</td>\n",
       "      <td>Jorge Michel Grau</td>\n",
       "      <td>Demián Bichir, Héctor Bonilla, Oscar Serrano, Azalia Ortiz, Octavio Michel, Carmen Beato</td>\n",
       "      <td>Mexico</td>\n",
       "      <td>December 23, 2016</td>\n",
       "      <td>2016</td>\n",
       "      <td>TV-MA</td>\n",
       "      <td>93 min</td>\n",
       "      <td>Dramas, International Movies</td>\n",
       "      <td>After a devastating earthquake hits Mexico City, trapped survivors from all walks of life wait to be rescued while trying desperately to stay alive.</td>\n",
       "      <td>[Drama]</td>\n",
       "      <td>after a devastating earthquake hits mexico city trapped survivors from all walks of life wait to be rescued while trying desperately to stay alive</td>\n",
       "      <td>devastating earthquake hits mexico city trapped survivors walks life wait rescued trying desperately stay alive</td>\n",
       "    </tr>\n",
       "  </tbody>\n",
       "</table>\n",
       "</div>"
      ],
      "text/plain": [
       "  show_id     type  title           director  \\\n",
       "0      s1  TV Show     3%                NaN   \n",
       "1      s2    Movie  07:19  Jorge Michel Grau   \n",
       "\n",
       "                                                                                                                                                                         cast  \\\n",
       "0  João Miguel, Bianca Comparato, Michel Gomes, Rodolfo Valente, Vaneza Oliveira, Rafael Lozano, Viviane Porto, Mel Fronckowiak, Sergio Mamberti, Zezé Motta, Celso Frateschi   \n",
       "1                                                                                    Demián Bichir, Héctor Bonilla, Oscar Serrano, Azalia Ortiz, Octavio Michel, Carmen Beato   \n",
       "\n",
       "  country         date_added  release_year rating   duration  \\\n",
       "0  Brazil    August 14, 2020          2020  TV-MA  4 Seasons   \n",
       "1  Mexico  December 23, 2016          2016  TV-MA     93 min   \n",
       "\n",
       "                                                listed_in  \\\n",
       "0  International TV Shows, TV Dramas, TV Sci-Fi & Fantasy   \n",
       "1                            Dramas, International Movies   \n",
       "\n",
       "                                                                                                                                            description  \\\n",
       "0              In a future where the elite inhabit an island paradise far from the crowded slums, you get one chance to join the 3% saved from squalor.   \n",
       "1  After a devastating earthquake hits Mexico City, trapped survivors from all walks of life wait to be rescued while trying desperately to stay alive.   \n",
       "\n",
       "             genre  \\\n",
       "0  [Drama, Sci-Fi]   \n",
       "1          [Drama]   \n",
       "\n",
       "                                                                                                                                           clean_desc  \\\n",
       "0               in a future where the elite inhabit an island paradise far from the crowded slums you get one chance to join the 3 saved from squalor   \n",
       "1  after a devastating earthquake hits mexico city trapped survivors from all walks of life wait to be rescued while trying desperately to stay alive   \n",
       "\n",
       "                                                                                                 clean_desc_nostop  \n",
       "0                       future elite inhabit island paradise far crowded slums get one chance join 3 saved squalor  \n",
       "1  devastating earthquake hits mexico city trapped survivors walks life wait rescued trying desperately stay alive  "
      ]
     },
     "execution_count": 37,
     "metadata": {},
     "output_type": "execute_result"
    }
   ],
   "source": [
    "df_new.head(2)"
   ]
  },
  {
   "cell_type": "code",
   "execution_count": 38,
   "metadata": {},
   "outputs": [
    {
     "data": {
      "image/png": "[encoded data removed]",
      "text/plain": [
       "<Figure size 864x1080 with 1 Axes>"
      ]
     },
     "metadata": {
      "needs_background": "light"
     },
     "output_type": "display_data"
    }
   ],
   "source": [
    "# print 100 most frequent words from clean data with no stop words\n",
    "freq_words(df_new['clean_desc_nostop'], 100)"
   ]
  },
  {
   "cell_type": "markdown",
   "metadata": {},
   "source": [
    "# MODELLING "
   ]
  },
  {
   "cell_type": "code",
   "execution_count": 39,
   "metadata": {},
   "outputs": [],
   "source": [
    "#Why do we do fit and transform seperately???\n",
    "\n",
    "from sklearn.preprocessing import MultiLabelBinarizer\n",
    "\n",
    "multilabel_binarizer = MultiLabelBinarizer()\n",
    "multilabel_binarizer.fit(df_new['genre'])\n",
    "\n",
    "# transform target variable\n",
    "y = multilabel_binarizer.transform(df_new['genre'])"
   ]
  },
  {
   "cell_type": "code",
   "execution_count": 40,
   "metadata": {},
   "outputs": [
    {
     "data": {
      "text/plain": [
       "array(['Action', 'AnimeFeatures', 'Children&Family', 'Classic', 'Comedy',\n",
       "       'Crime', 'Cult', 'Documenty', 'Drama', 'Horror', 'Kids', 'LGBTQ',\n",
       "       'Romance', 'Sci-Fi', 'Science&Nature', 'Spirituality', 'Sports',\n",
       "       'Thriller'], dtype=object)"
      ]
     },
     "execution_count": 40,
     "metadata": {},
     "output_type": "execute_result"
    }
   ],
   "source": [
    "multilabel_binarizer.classes_"
   ]
  },
  {
   "cell_type": "code",
   "execution_count": 41,
   "metadata": {},
   "outputs": [
    {
     "data": {
      "text/plain": [
       "['Drama', 'Sci-Fi']"
      ]
     },
     "execution_count": 41,
     "metadata": {},
     "output_type": "execute_result"
    }
   ],
   "source": [
    "df_new.genre[0]"
   ]
  },
  {
   "cell_type": "code",
   "execution_count": 42,
   "metadata": {},
   "outputs": [
    {
     "data": {
      "text/plain": [
       "7529"
      ]
     },
     "execution_count": 42,
     "metadata": {},
     "output_type": "execute_result"
    }
   ],
   "source": [
    "len(df_new['genre'])"
   ]
  },
  {
   "cell_type": "code",
   "execution_count": 43,
   "metadata": {},
   "outputs": [
    {
     "data": {
      "text/plain": [
       "array([0, 0, 0, 0, 0, 0, 0, 0, 1, 0, 0, 0, 0, 1, 0, 0, 0, 0])"
      ]
     },
     "execution_count": 43,
     "metadata": {},
     "output_type": "execute_result"
    }
   ],
   "source": [
    "y[0]"
   ]
  },
  {
   "cell_type": "code",
   "execution_count": 44,
   "metadata": {},
   "outputs": [
    {
     "data": {
      "text/plain": [
       "array(['Action', 'AnimeFeatures', 'Children&Family', 'Classic', 'Comedy',\n",
       "       'Crime', 'Cult', 'Documenty', 'Drama', 'Horror', 'Kids', 'LGBTQ',\n",
       "       'Romance', 'Sci-Fi', 'Science&Nature', 'Spirituality', 'Sports',\n",
       "       'Thriller'], dtype=object)"
      ]
     },
     "execution_count": 44,
     "metadata": {},
     "output_type": "execute_result"
    }
   ],
   "source": [
    "multilabel_binarizer.classes_"
   ]
  },
  {
   "cell_type": "code",
   "execution_count": 45,
   "metadata": {},
   "outputs": [
    {
     "data": {
      "text/html": [
       "<div>\n",
       "<style scoped>\n",
       "    .dataframe tbody tr th:only-of-type {\n",
       "        vertical-align: middle;\n",
       "    }\n",
       "\n",
       "    .dataframe tbody tr th {\n",
       "        vertical-align: top;\n",
       "    }\n",
       "\n",
       "    .dataframe thead th {\n",
       "        text-align: right;\n",
       "    }\n",
       "</style>\n",
       "<table border=\"1\" class=\"dataframe\">\n",
       "  <thead>\n",
       "    <tr style=\"text-align: right;\">\n",
       "      <th></th>\n",
       "      <th>show_id</th>\n",
       "      <th>type</th>\n",
       "      <th>title</th>\n",
       "      <th>director</th>\n",
       "      <th>cast</th>\n",
       "      <th>country</th>\n",
       "      <th>date_added</th>\n",
       "      <th>release_year</th>\n",
       "      <th>rating</th>\n",
       "      <th>duration</th>\n",
       "      <th>listed_in</th>\n",
       "      <th>description</th>\n",
       "      <th>genre</th>\n",
       "      <th>clean_desc</th>\n",
       "      <th>clean_desc_nostop</th>\n",
       "    </tr>\n",
       "  </thead>\n",
       "  <tbody>\n",
       "    <tr>\n",
       "      <th>0</th>\n",
       "      <td>s1</td>\n",
       "      <td>TV Show</td>\n",
       "      <td>3%</td>\n",
       "      <td>NaN</td>\n",
       "      <td>João Miguel, Bianca Comparato, Michel Gomes, Rodolfo Valente, Vaneza Oliveira, Rafael Lozano, Viviane Porto, Mel Fronckowiak, Sergio Mamberti, Zezé Motta, Celso Frateschi</td>\n",
       "      <td>Brazil</td>\n",
       "      <td>August 14, 2020</td>\n",
       "      <td>2020</td>\n",
       "      <td>TV-MA</td>\n",
       "      <td>4 Seasons</td>\n",
       "      <td>International TV Shows, TV Dramas, TV Sci-Fi &amp; Fantasy</td>\n",
       "      <td>In a future where the elite inhabit an island paradise far from the crowded slums, you get one chance to join the 3% saved from squalor.</td>\n",
       "      <td>[Drama, Sci-Fi]</td>\n",
       "      <td>in a future where the elite inhabit an island paradise far from the crowded slums you get one chance to join the 3 saved from squalor</td>\n",
       "      <td>future elite inhabit island paradise far crowded slums get one chance join 3 saved squalor</td>\n",
       "    </tr>\n",
       "    <tr>\n",
       "      <th>1</th>\n",
       "      <td>s2</td>\n",
       "      <td>Movie</td>\n",
       "      <td>07:19</td>\n",
       "      <td>Jorge Michel Grau</td>\n",
       "      <td>Demián Bichir, Héctor Bonilla, Oscar Serrano, Azalia Ortiz, Octavio Michel, Carmen Beato</td>\n",
       "      <td>Mexico</td>\n",
       "      <td>December 23, 2016</td>\n",
       "      <td>2016</td>\n",
       "      <td>TV-MA</td>\n",
       "      <td>93 min</td>\n",
       "      <td>Dramas, International Movies</td>\n",
       "      <td>After a devastating earthquake hits Mexico City, trapped survivors from all walks of life wait to be rescued while trying desperately to stay alive.</td>\n",
       "      <td>[Drama]</td>\n",
       "      <td>after a devastating earthquake hits mexico city trapped survivors from all walks of life wait to be rescued while trying desperately to stay alive</td>\n",
       "      <td>devastating earthquake hits mexico city trapped survivors walks life wait rescued trying desperately stay alive</td>\n",
       "    </tr>\n",
       "  </tbody>\n",
       "</table>\n",
       "</div>"
      ],
      "text/plain": [
       "  show_id     type  title           director  \\\n",
       "0      s1  TV Show     3%                NaN   \n",
       "1      s2    Movie  07:19  Jorge Michel Grau   \n",
       "\n",
       "                                                                                                                                                                         cast  \\\n",
       "0  João Miguel, Bianca Comparato, Michel Gomes, Rodolfo Valente, Vaneza Oliveira, Rafael Lozano, Viviane Porto, Mel Fronckowiak, Sergio Mamberti, Zezé Motta, Celso Frateschi   \n",
       "1                                                                                    Demián Bichir, Héctor Bonilla, Oscar Serrano, Azalia Ortiz, Octavio Michel, Carmen Beato   \n",
       "\n",
       "  country         date_added  release_year rating   duration  \\\n",
       "0  Brazil    August 14, 2020          2020  TV-MA  4 Seasons   \n",
       "1  Mexico  December 23, 2016          2016  TV-MA     93 min   \n",
       "\n",
       "                                                listed_in  \\\n",
       "0  International TV Shows, TV Dramas, TV Sci-Fi & Fantasy   \n",
       "1                            Dramas, International Movies   \n",
       "\n",
       "                                                                                                                                            description  \\\n",
       "0              In a future where the elite inhabit an island paradise far from the crowded slums, you get one chance to join the 3% saved from squalor.   \n",
       "1  After a devastating earthquake hits Mexico City, trapped survivors from all walks of life wait to be rescued while trying desperately to stay alive.   \n",
       "\n",
       "             genre  \\\n",
       "0  [Drama, Sci-Fi]   \n",
       "1          [Drama]   \n",
       "\n",
       "                                                                                                                                           clean_desc  \\\n",
       "0               in a future where the elite inhabit an island paradise far from the crowded slums you get one chance to join the 3 saved from squalor   \n",
       "1  after a devastating earthquake hits mexico city trapped survivors from all walks of life wait to be rescued while trying desperately to stay alive   \n",
       "\n",
       "                                                                                                 clean_desc_nostop  \n",
       "0                       future elite inhabit island paradise far crowded slums get one chance join 3 saved squalor  \n",
       "1  devastating earthquake hits mexico city trapped survivors walks life wait rescued trying desperately stay alive  "
      ]
     },
     "execution_count": 45,
     "metadata": {},
     "output_type": "execute_result"
    }
   ],
   "source": [
    "df_new.head(2)"
   ]
  },
  {
   "cell_type": "code",
   "execution_count": 46,
   "metadata": {},
   "outputs": [],
   "source": [
    "tfidf_vectorizer = TfidfVectorizer(max_df=0.8, max_features=10000)"
   ]
  },
  {
   "cell_type": "code",
   "execution_count": 47,
   "metadata": {},
   "outputs": [],
   "source": [
    "# split dataset into training and validation set\n",
    "xtrain, xval, ytrain, yval = train_test_split(df_new['clean_desc_nostop'], y, test_size=0.2, random_state=9)"
   ]
  },
  {
   "cell_type": "code",
   "execution_count": 48,
   "metadata": {},
   "outputs": [
    {
     "data": {
      "text/plain": [
       "0                                 future elite inhabit island paradise far crowded slums get one chance join 3 saved squalor\n",
       "1            devastating earthquake hits mexico city trapped survivors walks life wait rescued trying desperately stay alive\n",
       "2       army recruit found dead fellow soldiers forced confront terrifying secret thats haunting jungle island training camp\n",
       "3                  postapocalyptic world rag doll robots hide fear dangerous machines exterminate brave newcomer joins group\n",
       "4        brilliant group students become card counting experts intent swindling millions las vegas casinos playing blackjack\n",
       "                                                                ...                                                         \n",
       "7781      dragged civilian life former superhero must train new crop youthful saviors military preps attack familiar villain\n",
       "7782                  lebanons civil war deprives zozo family hes left grief little means escapes sweden search grandparents\n",
       "7783                                    scrappy poor boy worms way tycoons dysfunctional family facing fear music truth past\n",
       "7784               documentary south african rapper nasty c hits stage streets tokyo introducing citys sights sounds culture\n",
       "7786                    documentary delves mystique behind blues rock trio explores enigmatic band created iconic look sound\n",
       "Name: clean_desc_nostop, Length: 7529, dtype: object"
      ]
     },
     "execution_count": 48,
     "metadata": {},
     "output_type": "execute_result"
    }
   ],
   "source": [
    "df_new['clean_desc_nostop']"
   ]
  },
  {
   "cell_type": "code",
   "execution_count": 49,
   "metadata": {},
   "outputs": [],
   "source": [
    "# create TF-IDF features\n",
    "xtrain_tfidf = tfidf_vectorizer.fit_transform(xtrain)\n",
    "xval_tfidf = tfidf_vectorizer.transform(xval)"
   ]
  },
  {
   "cell_type": "code",
   "execution_count": 50,
   "metadata": {},
   "outputs": [
    {
     "data": {
      "text/plain": [
       "(6023, 10000)"
      ]
     },
     "execution_count": 50,
     "metadata": {},
     "output_type": "execute_result"
    }
   ],
   "source": [
    "xtrain_tfidf.shape"
   ]
  },
  {
   "cell_type": "code",
   "execution_count": 51,
   "metadata": {},
   "outputs": [],
   "source": [
    "from sklearn.linear_model import LogisticRegression\n",
    "\n",
    "# Binary Relevance\n",
    "from sklearn.multiclass import OneVsRestClassifier\n",
    "\n",
    "# Performance metric\n",
    "import sklearn.metrics  as metrics"
   ]
  },
  {
   "cell_type": "code",
   "execution_count": 52,
   "metadata": {},
   "outputs": [],
   "source": [
    "lr = LogisticRegression()\n",
    "clf = OneVsRestClassifier(lr)"
   ]
  },
  {
   "cell_type": "code",
   "execution_count": 53,
   "metadata": {},
   "outputs": [
    {
     "data": {
      "text/plain": [
       "OneVsRestClassifier(estimator=LogisticRegression())"
      ]
     },
     "execution_count": 53,
     "metadata": {},
     "output_type": "execute_result"
    }
   ],
   "source": [
    "# fit model on train data\n",
    "clf.fit(xtrain_tfidf, ytrain)"
   ]
  },
  {
   "cell_type": "code",
   "execution_count": 54,
   "metadata": {},
   "outputs": [],
   "source": [
    "# make predictions for validation set\n",
    "y_pred = clf.predict(xval_tfidf)"
   ]
  },
  {
   "cell_type": "code",
   "execution_count": 55,
   "metadata": {},
   "outputs": [
    {
     "data": {
      "text/plain": [
       "array([[0, 0, 0, 0, 0, 0, 0, 1, 0, 0, 0, 0, 0, 0, 0, 0, 0, 0],\n",
       "       [0, 0, 0, 0, 0, 0, 0, 0, 1, 0, 0, 0, 0, 0, 0, 0, 0, 0],\n",
       "       [0, 0, 0, 0, 0, 0, 0, 0, 0, 0, 0, 0, 0, 0, 0, 0, 0, 0],\n",
       "       [0, 0, 0, 0, 0, 0, 0, 0, 0, 0, 0, 0, 0, 0, 0, 0, 0, 0],\n",
       "       [0, 0, 0, 0, 0, 0, 0, 0, 0, 0, 0, 0, 0, 0, 0, 0, 0, 0],\n",
       "       [0, 0, 0, 0, 0, 0, 0, 1, 0, 0, 0, 0, 0, 0, 0, 0, 0, 0],\n",
       "       [0, 0, 0, 0, 0, 0, 0, 1, 0, 0, 0, 0, 0, 0, 0, 0, 0, 0],\n",
       "       [0, 0, 0, 0, 0, 0, 0, 0, 0, 0, 0, 0, 0, 0, 0, 0, 0, 0],\n",
       "       [0, 0, 0, 0, 0, 0, 0, 0, 1, 0, 0, 0, 0, 0, 0, 0, 0, 0]])"
      ]
     },
     "execution_count": 55,
     "metadata": {},
     "output_type": "execute_result"
    }
   ],
   "source": [
    "y_pred[1:10]"
   ]
  },
  {
   "cell_type": "code",
   "execution_count": 56,
   "metadata": {},
   "outputs": [
    {
     "data": {
      "text/plain": [
       "[('Documenty',),\n",
       " ('Drama',),\n",
       " (),\n",
       " (),\n",
       " (),\n",
       " ('Documenty',),\n",
       " ('Documenty',),\n",
       " (),\n",
       " ('Drama',)]"
      ]
     },
     "execution_count": 56,
     "metadata": {},
     "output_type": "execute_result"
    }
   ],
   "source": [
    "multilabel_binarizer.inverse_transform(y_pred)[1:10]"
   ]
  },
  {
   "cell_type": "code",
   "execution_count": 57,
   "metadata": {},
   "outputs": [
    {
     "data": {
      "text/plain": [
       "0.3429158110882957"
      ]
     },
     "execution_count": 57,
     "metadata": {},
     "output_type": "execute_result"
    }
   ],
   "source": [
    "metrics.f1_score(yval, y_pred, average=\"micro\")"
   ]
  },
  {
   "cell_type": "code",
   "execution_count": 58,
   "metadata": {},
   "outputs": [
    {
     "data": {
      "text/plain": [
       "0.17861885790172644"
      ]
     },
     "execution_count": 58,
     "metadata": {},
     "output_type": "execute_result"
    }
   ],
   "source": [
    "metrics.accuracy_score(yval, y_pred)"
   ]
  },
  {
   "cell_type": "code",
   "execution_count": 59,
   "metadata": {},
   "outputs": [],
   "source": [
    "y_pred_prob = clf.predict_proba(xval_tfidf)"
   ]
  },
  {
   "cell_type": "code",
   "execution_count": 60,
   "metadata": {},
   "outputs": [
    {
     "data": {
      "text/plain": [
       "18"
      ]
     },
     "execution_count": 60,
     "metadata": {},
     "output_type": "execute_result"
    }
   ],
   "source": [
    "len(y_pred_prob[1])"
   ]
  },
  {
   "cell_type": "code",
   "execution_count": 61,
   "metadata": {},
   "outputs": [],
   "source": [
    "t = 0.3 # threshold value\n",
    "y_pred_new = (y_pred_prob >= t).astype(int)"
   ]
  },
  {
   "cell_type": "code",
   "execution_count": 62,
   "metadata": {},
   "outputs": [
    {
     "data": {
      "text/plain": [
       "array([[0, 0, 0, ..., 0, 0, 0],\n",
       "       [0, 0, 0, ..., 0, 0, 0],\n",
       "       [0, 0, 0, ..., 0, 0, 0],\n",
       "       ...,\n",
       "       [0, 0, 0, ..., 0, 0, 0],\n",
       "       [0, 0, 0, ..., 0, 0, 0],\n",
       "       [0, 0, 0, ..., 0, 0, 0]])"
      ]
     },
     "execution_count": 62,
     "metadata": {},
     "output_type": "execute_result"
    }
   ],
   "source": [
    "y_pred_new"
   ]
  },
  {
   "cell_type": "code",
   "execution_count": 63,
   "metadata": {},
   "outputs": [
    {
     "name": "stdout",
     "output_type": "stream",
     "text": [
      "0.5282928003852636\n",
      "0.2536520584329349\n"
     ]
    }
   ],
   "source": [
    "# evaluate performance\n",
    "print(metrics.f1_score(yval, y_pred_new, average=\"micro\"))\n",
    "print(metrics.accuracy_score(yval, y_pred_new))"
   ]
  },
  {
   "cell_type": "code",
   "execution_count": 64,
   "metadata": {},
   "outputs": [
    {
     "data": {
      "text/plain": [
       "array([[0, 0, 0, 0, 0, 0, 0, 1, 0, 0, 0, 0, 0, 0, 0, 0, 0, 0],\n",
       "       [0, 0, 0, 0, 0, 0, 0, 0, 1, 0, 0, 0, 0, 0, 0, 0, 0, 0],\n",
       "       [0, 0, 0, 0, 0, 0, 0, 0, 0, 0, 1, 0, 0, 0, 0, 0, 0, 0],\n",
       "       [0, 0, 0, 0, 0, 0, 0, 1, 0, 0, 0, 0, 0, 0, 0, 0, 0, 0],\n",
       "       [0, 0, 0, 0, 1, 0, 0, 0, 1, 0, 0, 0, 0, 0, 0, 0, 0, 0],\n",
       "       [0, 0, 0, 0, 0, 0, 0, 1, 0, 0, 0, 0, 0, 0, 0, 0, 0, 0],\n",
       "       [0, 0, 0, 0, 0, 0, 0, 1, 0, 0, 0, 0, 0, 0, 0, 0, 0, 0],\n",
       "       [0, 0, 0, 0, 1, 0, 0, 0, 1, 0, 0, 0, 0, 0, 0, 0, 0, 0],\n",
       "       [0, 0, 0, 0, 1, 0, 0, 0, 1, 0, 0, 0, 0, 0, 0, 0, 0, 0]])"
      ]
     },
     "execution_count": 64,
     "metadata": {},
     "output_type": "execute_result"
    }
   ],
   "source": [
    "y_pred_new[1:10]"
   ]
  },
  {
   "cell_type": "code",
   "execution_count": 65,
   "metadata": {},
   "outputs": [
    {
     "data": {
      "text/plain": [
       "1506"
      ]
     },
     "execution_count": 65,
     "metadata": {},
     "output_type": "execute_result"
    }
   ],
   "source": [
    "len(y_pred_new)"
   ]
  },
  {
   "cell_type": "code",
   "execution_count": 66,
   "metadata": {},
   "outputs": [
    {
     "data": {
      "text/plain": [
       "1506"
      ]
     },
     "execution_count": 66,
     "metadata": {},
     "output_type": "execute_result"
    }
   ],
   "source": [
    "len(xval)"
   ]
  },
  {
   "cell_type": "code",
   "execution_count": 67,
   "metadata": {},
   "outputs": [
    {
     "data": {
      "text/plain": [
       "[('Comedy', 'Drama'),\n",
       " (),\n",
       " ('Drama',),\n",
       " ('Comedy',),\n",
       " ('Drama',),\n",
       " ('Comedy', 'Drama'),\n",
       " (),\n",
       " ('Comedy',),\n",
       " ('Drama',),\n",
       " ('Documenty', 'Drama')]"
      ]
     },
     "execution_count": 67,
     "metadata": {},
     "output_type": "execute_result"
    }
   ],
   "source": [
    "multilabel_binarizer.inverse_transform(y_pred_new)[100:110]"
   ]
  },
  {
   "cell_type": "code",
   "execution_count": 68,
   "metadata": {},
   "outputs": [
    {
     "data": {
      "text/plain": [
       "[('Documenty',),\n",
       " ('Crime', 'Drama'),\n",
       " ('Drama', 'LGBTQ'),\n",
       " ('Children&Family',),\n",
       " ('Action', 'Sci-Fi'),\n",
       " ('Comedy', 'Drama'),\n",
       " ('Crime', 'Documenty'),\n",
       " ('Comedy', 'Drama'),\n",
       " ('Drama',),\n",
       " ('Documenty',)]"
      ]
     },
     "execution_count": 68,
     "metadata": {},
     "output_type": "execute_result"
    }
   ],
   "source": [
    "multilabel_binarizer.inverse_transform(yval)[100:110]"
   ]
  },
  {
   "cell_type": "code",
   "execution_count": 69,
   "metadata": {},
   "outputs": [],
   "source": [
    "### This sheet is still in progress. I am not able to get the correct lables. \n",
    "#Need help with choosing the correct model and metrics for this probelm statement.\n",
    "# We will discuss this in our next call."
   ]
  },
  {
   "cell_type": "markdown",
   "metadata": {},
   "source": [
    "# Since the prediction has multiple classes, we would consider model accuracy by comparing any one predicted class with the actual class. \n",
    "# Creating a new data frame with the predicted and actual genres to check accuracy"
   ]
  },
  {
   "cell_type": "code",
   "execution_count": 70,
   "metadata": {},
   "outputs": [],
   "source": [
    "Results = pd.DataFrame(pd.Series(list(x) for x in multilabel_binarizer.inverse_transform(y_pred_new)), columns=['predicted_genre'])"
   ]
  },
  {
   "cell_type": "code",
   "execution_count": 71,
   "metadata": {},
   "outputs": [],
   "source": [
    "Results['actual_genre'] = pd.Series(list(x) for x in multilabel_binarizer.inverse_transform(yval))"
   ]
  },
  {
   "cell_type": "code",
   "execution_count": 72,
   "metadata": {},
   "outputs": [
    {
     "data": {
      "text/html": [
       "<div>\n",
       "<style scoped>\n",
       "    .dataframe tbody tr th:only-of-type {\n",
       "        vertical-align: middle;\n",
       "    }\n",
       "\n",
       "    .dataframe tbody tr th {\n",
       "        vertical-align: top;\n",
       "    }\n",
       "\n",
       "    .dataframe thead th {\n",
       "        text-align: right;\n",
       "    }\n",
       "</style>\n",
       "<table border=\"1\" class=\"dataframe\">\n",
       "  <thead>\n",
       "    <tr style=\"text-align: right;\">\n",
       "      <th></th>\n",
       "      <th>predicted_genre</th>\n",
       "      <th>actual_genre</th>\n",
       "    </tr>\n",
       "  </thead>\n",
       "  <tbody>\n",
       "    <tr>\n",
       "      <th>0</th>\n",
       "      <td>[Comedy]</td>\n",
       "      <td>[Kids]</td>\n",
       "    </tr>\n",
       "    <tr>\n",
       "      <th>1</th>\n",
       "      <td>[Documenty]</td>\n",
       "      <td>[Documenty, LGBTQ]</td>\n",
       "    </tr>\n",
       "    <tr>\n",
       "      <th>2</th>\n",
       "      <td>[Drama]</td>\n",
       "      <td>[Drama, Thriller]</td>\n",
       "    </tr>\n",
       "    <tr>\n",
       "      <th>3</th>\n",
       "      <td>[Kids]</td>\n",
       "      <td>[Kids]</td>\n",
       "    </tr>\n",
       "    <tr>\n",
       "      <th>4</th>\n",
       "      <td>[Documenty]</td>\n",
       "      <td>[Crime, Documenty]</td>\n",
       "    </tr>\n",
       "  </tbody>\n",
       "</table>\n",
       "</div>"
      ],
      "text/plain": [
       "  predicted_genre        actual_genre\n",
       "0        [Comedy]              [Kids]\n",
       "1     [Documenty]  [Documenty, LGBTQ]\n",
       "2         [Drama]   [Drama, Thriller]\n",
       "3          [Kids]              [Kids]\n",
       "4     [Documenty]  [Crime, Documenty]"
      ]
     },
     "execution_count": 72,
     "metadata": {},
     "output_type": "execute_result"
    }
   ],
   "source": [
    "Results.head()"
   ]
  },
  {
   "cell_type": "code",
   "execution_count": 73,
   "metadata": {},
   "outputs": [],
   "source": [
    "Results['accuracy'] = Results['predicted_genre'] == (Results['actual_genre'])"
   ]
  },
  {
   "cell_type": "code",
   "execution_count": 74,
   "metadata": {},
   "outputs": [
    {
     "data": {
      "text/plain": [
       "True"
      ]
     },
     "execution_count": 74,
     "metadata": {},
     "output_type": "execute_result"
    }
   ],
   "source": [
    "Results['predicted_genre'][3] == Results['actual_genre'][3]"
   ]
  },
  {
   "cell_type": "code",
   "execution_count": 75,
   "metadata": {},
   "outputs": [
    {
     "data": {
      "text/plain": [
       "False    1124\n",
       "True      382\n",
       "Name: accuracy, dtype: int64"
      ]
     },
     "execution_count": 75,
     "metadata": {},
     "output_type": "execute_result"
    }
   ],
   "source": [
    "Results.accuracy.value_counts()"
   ]
  },
  {
   "cell_type": "code",
   "execution_count": 76,
   "metadata": {},
   "outputs": [
    {
     "data": {
      "text/html": [
       "<div>\n",
       "<style scoped>\n",
       "    .dataframe tbody tr th:only-of-type {\n",
       "        vertical-align: middle;\n",
       "    }\n",
       "\n",
       "    .dataframe tbody tr th {\n",
       "        vertical-align: top;\n",
       "    }\n",
       "\n",
       "    .dataframe thead th {\n",
       "        text-align: right;\n",
       "    }\n",
       "</style>\n",
       "<table border=\"1\" class=\"dataframe\">\n",
       "  <thead>\n",
       "    <tr style=\"text-align: right;\">\n",
       "      <th></th>\n",
       "      <th>predicted_genre</th>\n",
       "      <th>actual_genre</th>\n",
       "      <th>accuracy</th>\n",
       "    </tr>\n",
       "  </thead>\n",
       "  <tbody>\n",
       "    <tr>\n",
       "      <th>0</th>\n",
       "      <td>[Comedy]</td>\n",
       "      <td>[Kids]</td>\n",
       "      <td>False</td>\n",
       "    </tr>\n",
       "    <tr>\n",
       "      <th>1</th>\n",
       "      <td>[Documenty]</td>\n",
       "      <td>[Documenty, LGBTQ]</td>\n",
       "      <td>False</td>\n",
       "    </tr>\n",
       "    <tr>\n",
       "      <th>2</th>\n",
       "      <td>[Drama]</td>\n",
       "      <td>[Drama, Thriller]</td>\n",
       "      <td>False</td>\n",
       "    </tr>\n",
       "    <tr>\n",
       "      <th>3</th>\n",
       "      <td>[Kids]</td>\n",
       "      <td>[Kids]</td>\n",
       "      <td>True</td>\n",
       "    </tr>\n",
       "    <tr>\n",
       "      <th>4</th>\n",
       "      <td>[Documenty]</td>\n",
       "      <td>[Crime, Documenty]</td>\n",
       "      <td>False</td>\n",
       "    </tr>\n",
       "    <tr>\n",
       "      <th>...</th>\n",
       "      <td>...</td>\n",
       "      <td>...</td>\n",
       "      <td>...</td>\n",
       "    </tr>\n",
       "    <tr>\n",
       "      <th>1501</th>\n",
       "      <td>[Documenty]</td>\n",
       "      <td>[Documenty, Science&amp;Nature]</td>\n",
       "      <td>False</td>\n",
       "    </tr>\n",
       "    <tr>\n",
       "      <th>1502</th>\n",
       "      <td>[]</td>\n",
       "      <td>[Horror]</td>\n",
       "      <td>False</td>\n",
       "    </tr>\n",
       "    <tr>\n",
       "      <th>1503</th>\n",
       "      <td>[Comedy]</td>\n",
       "      <td>[Documenty]</td>\n",
       "      <td>False</td>\n",
       "    </tr>\n",
       "    <tr>\n",
       "      <th>1504</th>\n",
       "      <td>[Drama]</td>\n",
       "      <td>[Children&amp;Family, Comedy]</td>\n",
       "      <td>False</td>\n",
       "    </tr>\n",
       "    <tr>\n",
       "      <th>1505</th>\n",
       "      <td>[Drama]</td>\n",
       "      <td>[Drama, LGBTQ]</td>\n",
       "      <td>False</td>\n",
       "    </tr>\n",
       "  </tbody>\n",
       "</table>\n",
       "<p>1506 rows × 3 columns</p>\n",
       "</div>"
      ],
      "text/plain": [
       "     predicted_genre                 actual_genre  accuracy\n",
       "0           [Comedy]                       [Kids]     False\n",
       "1        [Documenty]           [Documenty, LGBTQ]     False\n",
       "2            [Drama]            [Drama, Thriller]     False\n",
       "3             [Kids]                       [Kids]      True\n",
       "4        [Documenty]           [Crime, Documenty]     False\n",
       "...              ...                          ...       ...\n",
       "1501     [Documenty]  [Documenty, Science&Nature]     False\n",
       "1502              []                     [Horror]     False\n",
       "1503        [Comedy]                  [Documenty]     False\n",
       "1504         [Drama]    [Children&Family, Comedy]     False\n",
       "1505         [Drama]               [Drama, LGBTQ]     False\n",
       "\n",
       "[1506 rows x 3 columns]"
      ]
     },
     "execution_count": 76,
     "metadata": {},
     "output_type": "execute_result"
    }
   ],
   "source": [
    "Results"
   ]
  },
  {
   "cell_type": "code",
   "execution_count": 89,
   "metadata": {},
   "outputs": [
    {
     "data": {
      "text/plain": [
       "9"
      ]
     },
     "execution_count": 89,
     "metadata": {},
     "output_type": "execute_result"
    }
   ],
   "source": [
    "len(Results['predicted_genre'][1501][0])"
   ]
  },
  {
   "cell_type": "code",
   "execution_count": 114,
   "metadata": {},
   "outputs": [],
   "source": [
    "# To check how many cases model did not predict anything\n",
    "len_of_predicted_genre = []\n",
    "for x in range(Results['predicted_genre'].size):\n",
    "    len_of_predicted_genre.append(len(Results['predicted_genre'][x]))"
   ]
  },
  {
   "cell_type": "code",
   "execution_count": 136,
   "metadata": {},
   "outputs": [
    {
     "ename": "IndexError",
     "evalue": "list index out of range",
     "output_type": "error",
     "traceback": [
      "\u001b[1;31m---------------------------------------------------------------------------\u001b[0m",
      "\u001b[1;31mIndexError\u001b[0m                                Traceback (most recent call last)",
      "\u001b[1;32m<ipython-input-136-c719cd594324>\u001b[0m in \u001b[0;36m<module>\u001b[1;34m\u001b[0m\n\u001b[1;32m----> 1\u001b[1;33m \u001b[0mlen\u001b[0m\u001b[1;33m(\u001b[0m\u001b[0mResults\u001b[0m\u001b[1;33m[\u001b[0m\u001b[1;34m'predicted_genre'\u001b[0m\u001b[1;33m]\u001b[0m\u001b[1;33m[\u001b[0m\u001b[1;36m1502\u001b[0m\u001b[1;33m]\u001b[0m\u001b[1;33m[\u001b[0m\u001b[1;36m0\u001b[0m\u001b[1;33m]\u001b[0m\u001b[1;33m)\u001b[0m\u001b[1;33m\u001b[0m\u001b[1;33m\u001b[0m\u001b[0m\n\u001b[0m",
      "\u001b[1;31mIndexError\u001b[0m: list index out of range"
     ]
    }
   ],
   "source": [
    "len(Results['predicted_genre'][1502][0])"
   ]
  },
  {
   "cell_type": "code",
   "execution_count": 207,
   "metadata": {},
   "outputs": [
    {
     "data": {
      "text/plain": [
       "168"
      ]
     },
     "execution_count": 207,
     "metadata": {},
     "output_type": "execute_result"
    }
   ],
   "source": [
    "# This means we have 168 out of 1505 movies for which model did not predict anything(means predict_proba was <0.3) \n",
    "len_of_predicted_genre.count(0)"
   ]
  },
  {
   "cell_type": "code",
   "execution_count": 208,
   "metadata": {},
   "outputs": [
    {
     "data": {
      "text/plain": [
       "25"
      ]
     },
     "execution_count": 208,
     "metadata": {},
     "output_type": "execute_result"
    }
   ],
   "source": [
    "len_of_predicted_genre.index(3)"
   ]
  },
  {
   "cell_type": "code",
   "execution_count": 214,
   "metadata": {},
   "outputs": [
    {
     "data": {
      "text/html": [
       "<div>\n",
       "<style scoped>\n",
       "    .dataframe tbody tr th:only-of-type {\n",
       "        vertical-align: middle;\n",
       "    }\n",
       "\n",
       "    .dataframe tbody tr th {\n",
       "        vertical-align: top;\n",
       "    }\n",
       "\n",
       "    .dataframe thead th {\n",
       "        text-align: right;\n",
       "    }\n",
       "</style>\n",
       "<table border=\"1\" class=\"dataframe\">\n",
       "  <thead>\n",
       "    <tr style=\"text-align: right;\">\n",
       "      <th></th>\n",
       "      <th>predicted_genre</th>\n",
       "      <th>actual_genre</th>\n",
       "      <th>accuracy</th>\n",
       "    </tr>\n",
       "  </thead>\n",
       "  <tbody>\n",
       "    <tr>\n",
       "      <th>0</th>\n",
       "      <td>[Comedy]</td>\n",
       "      <td>[Kids]</td>\n",
       "      <td>False</td>\n",
       "    </tr>\n",
       "    <tr>\n",
       "      <th>1</th>\n",
       "      <td>[Documenty]</td>\n",
       "      <td>[Documenty, LGBTQ]</td>\n",
       "      <td>False</td>\n",
       "    </tr>\n",
       "    <tr>\n",
       "      <th>2</th>\n",
       "      <td>[Drama]</td>\n",
       "      <td>[Drama, Thriller]</td>\n",
       "      <td>False</td>\n",
       "    </tr>\n",
       "    <tr>\n",
       "      <th>3</th>\n",
       "      <td>[Kids]</td>\n",
       "      <td>[Kids]</td>\n",
       "      <td>True</td>\n",
       "    </tr>\n",
       "    <tr>\n",
       "      <th>4</th>\n",
       "      <td>[Documenty]</td>\n",
       "      <td>[Crime, Documenty]</td>\n",
       "      <td>False</td>\n",
       "    </tr>\n",
       "    <tr>\n",
       "      <th>5</th>\n",
       "      <td>[Comedy, Drama]</td>\n",
       "      <td>[Comedy, Romance]</td>\n",
       "      <td>False</td>\n",
       "    </tr>\n",
       "    <tr>\n",
       "      <th>6</th>\n",
       "      <td>[Documenty]</td>\n",
       "      <td>[Documenty]</td>\n",
       "      <td>True</td>\n",
       "    </tr>\n",
       "    <tr>\n",
       "      <th>7</th>\n",
       "      <td>[Documenty]</td>\n",
       "      <td>[Documenty, Sports]</td>\n",
       "      <td>False</td>\n",
       "    </tr>\n",
       "    <tr>\n",
       "      <th>8</th>\n",
       "      <td>[Comedy, Drama]</td>\n",
       "      <td>[Children&amp;Family, Comedy]</td>\n",
       "      <td>False</td>\n",
       "    </tr>\n",
       "    <tr>\n",
       "      <th>9</th>\n",
       "      <td>[Comedy, Drama]</td>\n",
       "      <td>[Horror]</td>\n",
       "      <td>False</td>\n",
       "    </tr>\n",
       "    <tr>\n",
       "      <th>10</th>\n",
       "      <td>[Documenty]</td>\n",
       "      <td>[Documenty, Sports]</td>\n",
       "      <td>False</td>\n",
       "    </tr>\n",
       "    <tr>\n",
       "      <th>11</th>\n",
       "      <td>[Comedy, Drama]</td>\n",
       "      <td>[Comedy, Cult, Drama]</td>\n",
       "      <td>False</td>\n",
       "    </tr>\n",
       "    <tr>\n",
       "      <th>12</th>\n",
       "      <td>[Drama]</td>\n",
       "      <td>[Drama, LGBTQ]</td>\n",
       "      <td>False</td>\n",
       "    </tr>\n",
       "    <tr>\n",
       "      <th>13</th>\n",
       "      <td>[Drama]</td>\n",
       "      <td>[Documenty]</td>\n",
       "      <td>False</td>\n",
       "    </tr>\n",
       "    <tr>\n",
       "      <th>14</th>\n",
       "      <td>[Drama]</td>\n",
       "      <td>[Drama]</td>\n",
       "      <td>True</td>\n",
       "    </tr>\n",
       "    <tr>\n",
       "      <th>15</th>\n",
       "      <td>[Action]</td>\n",
       "      <td>[Action, AnimeFeatures]</td>\n",
       "      <td>False</td>\n",
       "    </tr>\n",
       "    <tr>\n",
       "      <th>16</th>\n",
       "      <td>[]</td>\n",
       "      <td>[Documenty]</td>\n",
       "      <td>False</td>\n",
       "    </tr>\n",
       "    <tr>\n",
       "      <th>17</th>\n",
       "      <td>[Documenty]</td>\n",
       "      <td>[Documenty]</td>\n",
       "      <td>True</td>\n",
       "    </tr>\n",
       "    <tr>\n",
       "      <th>18</th>\n",
       "      <td>[Drama]</td>\n",
       "      <td>[Drama]</td>\n",
       "      <td>True</td>\n",
       "    </tr>\n",
       "    <tr>\n",
       "      <th>19</th>\n",
       "      <td>[Drama]</td>\n",
       "      <td>[Children&amp;Family, Drama]</td>\n",
       "      <td>False</td>\n",
       "    </tr>\n",
       "    <tr>\n",
       "      <th>20</th>\n",
       "      <td>[Drama]</td>\n",
       "      <td>[Comedy]</td>\n",
       "      <td>False</td>\n",
       "    </tr>\n",
       "    <tr>\n",
       "      <th>21</th>\n",
       "      <td>[Action, Drama]</td>\n",
       "      <td>[Kids]</td>\n",
       "      <td>False</td>\n",
       "    </tr>\n",
       "    <tr>\n",
       "      <th>22</th>\n",
       "      <td>[Comedy, Drama]</td>\n",
       "      <td>[Comedy, Romance]</td>\n",
       "      <td>False</td>\n",
       "    </tr>\n",
       "    <tr>\n",
       "      <th>23</th>\n",
       "      <td>[Drama]</td>\n",
       "      <td>[Comedy, Drama]</td>\n",
       "      <td>False</td>\n",
       "    </tr>\n",
       "    <tr>\n",
       "      <th>24</th>\n",
       "      <td>[Comedy, Drama]</td>\n",
       "      <td>[Drama, LGBTQ]</td>\n",
       "      <td>False</td>\n",
       "    </tr>\n",
       "    <tr>\n",
       "      <th>25</th>\n",
       "      <td>[Comedy, Drama, Romance]</td>\n",
       "      <td>[Romance]</td>\n",
       "      <td>False</td>\n",
       "    </tr>\n",
       "  </tbody>\n",
       "</table>\n",
       "</div>"
      ],
      "text/plain": [
       "             predicted_genre               actual_genre  accuracy\n",
       "0                   [Comedy]                     [Kids]     False\n",
       "1                [Documenty]         [Documenty, LGBTQ]     False\n",
       "2                    [Drama]          [Drama, Thriller]     False\n",
       "3                     [Kids]                     [Kids]      True\n",
       "4                [Documenty]         [Crime, Documenty]     False\n",
       "5            [Comedy, Drama]          [Comedy, Romance]     False\n",
       "6                [Documenty]                [Documenty]      True\n",
       "7                [Documenty]        [Documenty, Sports]     False\n",
       "8            [Comedy, Drama]  [Children&Family, Comedy]     False\n",
       "9            [Comedy, Drama]                   [Horror]     False\n",
       "10               [Documenty]        [Documenty, Sports]     False\n",
       "11           [Comedy, Drama]      [Comedy, Cult, Drama]     False\n",
       "12                   [Drama]             [Drama, LGBTQ]     False\n",
       "13                   [Drama]                [Documenty]     False\n",
       "14                   [Drama]                    [Drama]      True\n",
       "15                  [Action]    [Action, AnimeFeatures]     False\n",
       "16                        []                [Documenty]     False\n",
       "17               [Documenty]                [Documenty]      True\n",
       "18                   [Drama]                    [Drama]      True\n",
       "19                   [Drama]   [Children&Family, Drama]     False\n",
       "20                   [Drama]                   [Comedy]     False\n",
       "21           [Action, Drama]                     [Kids]     False\n",
       "22           [Comedy, Drama]          [Comedy, Romance]     False\n",
       "23                   [Drama]            [Comedy, Drama]     False\n",
       "24           [Comedy, Drama]             [Drama, LGBTQ]     False\n",
       "25  [Comedy, Drama, Romance]                  [Romance]     False"
      ]
     },
     "execution_count": 214,
     "metadata": {},
     "output_type": "execute_result"
    }
   ],
   "source": [
    "Results.head(26)"
   ]
  },
  {
   "cell_type": "code",
   "execution_count": 226,
   "metadata": {},
   "outputs": [
    {
     "data": {
      "text/plain": [
       "1506"
      ]
     },
     "execution_count": 226,
     "metadata": {},
     "output_type": "execute_result"
    }
   ],
   "source": [
    "Results['predicted_genre'].size"
   ]
  },
  {
   "cell_type": "code",
   "execution_count": 236,
   "metadata": {},
   "outputs": [
    {
     "data": {
      "text/plain": [
       "'Comedy'"
      ]
     },
     "execution_count": 236,
     "metadata": {},
     "output_type": "execute_result"
    }
   ],
   "source": [
    "Results['predicted_genre'][199][0]"
   ]
  },
  {
   "cell_type": "code",
   "execution_count": 248,
   "metadata": {},
   "outputs": [
    {
     "data": {
      "text/plain": [
       "6"
      ]
     },
     "execution_count": 248,
     "metadata": {},
     "output_type": "execute_result"
    }
   ],
   "source": [
    "len(Results['predicted_genre'][0][0])"
   ]
  },
  {
   "cell_type": "code",
   "execution_count": 249,
   "metadata": {},
   "outputs": [
    {
     "data": {
      "text/html": [
       "<div>\n",
       "<style scoped>\n",
       "    .dataframe tbody tr th:only-of-type {\n",
       "        vertical-align: middle;\n",
       "    }\n",
       "\n",
       "    .dataframe tbody tr th {\n",
       "        vertical-align: top;\n",
       "    }\n",
       "\n",
       "    .dataframe thead th {\n",
       "        text-align: right;\n",
       "    }\n",
       "</style>\n",
       "<table border=\"1\" class=\"dataframe\">\n",
       "  <thead>\n",
       "    <tr style=\"text-align: right;\">\n",
       "      <th></th>\n",
       "      <th>predicted_genre</th>\n",
       "      <th>actual_genre</th>\n",
       "      <th>accuracy</th>\n",
       "    </tr>\n",
       "  </thead>\n",
       "  <tbody>\n",
       "    <tr>\n",
       "      <th>0</th>\n",
       "      <td>[Comedy]</td>\n",
       "      <td>[Kids]</td>\n",
       "      <td>False</td>\n",
       "    </tr>\n",
       "    <tr>\n",
       "      <th>1</th>\n",
       "      <td>[Documenty]</td>\n",
       "      <td>[Documenty, LGBTQ]</td>\n",
       "      <td>False</td>\n",
       "    </tr>\n",
       "    <tr>\n",
       "      <th>2</th>\n",
       "      <td>[Drama]</td>\n",
       "      <td>[Drama, Thriller]</td>\n",
       "      <td>False</td>\n",
       "    </tr>\n",
       "    <tr>\n",
       "      <th>3</th>\n",
       "      <td>[Kids]</td>\n",
       "      <td>[Kids]</td>\n",
       "      <td>True</td>\n",
       "    </tr>\n",
       "    <tr>\n",
       "      <th>4</th>\n",
       "      <td>[Documenty]</td>\n",
       "      <td>[Crime, Documenty]</td>\n",
       "      <td>False</td>\n",
       "    </tr>\n",
       "    <tr>\n",
       "      <th>...</th>\n",
       "      <td>...</td>\n",
       "      <td>...</td>\n",
       "      <td>...</td>\n",
       "    </tr>\n",
       "    <tr>\n",
       "      <th>1501</th>\n",
       "      <td>[Documenty]</td>\n",
       "      <td>[Documenty, Science&amp;Nature]</td>\n",
       "      <td>False</td>\n",
       "    </tr>\n",
       "    <tr>\n",
       "      <th>1502</th>\n",
       "      <td>[]</td>\n",
       "      <td>[Horror]</td>\n",
       "      <td>False</td>\n",
       "    </tr>\n",
       "    <tr>\n",
       "      <th>1503</th>\n",
       "      <td>[Comedy]</td>\n",
       "      <td>[Documenty]</td>\n",
       "      <td>False</td>\n",
       "    </tr>\n",
       "    <tr>\n",
       "      <th>1504</th>\n",
       "      <td>[Drama]</td>\n",
       "      <td>[Children&amp;Family, Comedy]</td>\n",
       "      <td>False</td>\n",
       "    </tr>\n",
       "    <tr>\n",
       "      <th>1505</th>\n",
       "      <td>[Drama]</td>\n",
       "      <td>[Drama, LGBTQ]</td>\n",
       "      <td>False</td>\n",
       "    </tr>\n",
       "  </tbody>\n",
       "</table>\n",
       "<p>1506 rows × 3 columns</p>\n",
       "</div>"
      ],
      "text/plain": [
       "     predicted_genre                 actual_genre  accuracy\n",
       "0           [Comedy]                       [Kids]     False\n",
       "1        [Documenty]           [Documenty, LGBTQ]     False\n",
       "2            [Drama]            [Drama, Thriller]     False\n",
       "3             [Kids]                       [Kids]      True\n",
       "4        [Documenty]           [Crime, Documenty]     False\n",
       "...              ...                          ...       ...\n",
       "1501     [Documenty]  [Documenty, Science&Nature]     False\n",
       "1502              []                     [Horror]     False\n",
       "1503        [Comedy]                  [Documenty]     False\n",
       "1504         [Drama]    [Children&Family, Comedy]     False\n",
       "1505         [Drama]               [Drama, LGBTQ]     False\n",
       "\n",
       "[1506 rows x 3 columns]"
      ]
     },
     "execution_count": 249,
     "metadata": {},
     "output_type": "execute_result"
    }
   ],
   "source": [
    "Results"
   ]
  },
  {
   "cell_type": "code",
   "execution_count": 282,
   "metadata": {},
   "outputs": [
    {
     "name": "stdout",
     "output_type": "stream",
     "text": [
      "This index has no predicted value : 16\n",
      "This index has no predicted value : 35\n",
      "This index has no predicted value : 39\n",
      "This index has no predicted value : 56\n",
      "This index has no predicted value : 68\n",
      "This index has no predicted value : 78\n",
      "This index has no predicted value : 80\n",
      "This index has no predicted value : 91\n",
      "This index has no predicted value : 97\n",
      "This index has no predicted value : 99\n",
      "This index has no predicted value : 101\n",
      "This index has no predicted value : 106\n",
      "This index has no predicted value : 119\n",
      "This index has no predicted value : 120\n",
      "This index has no predicted value : 121\n",
      "This index has no predicted value : 138\n",
      "This index has no predicted value : 139\n",
      "This index has no predicted value : 141\n",
      "This index has no predicted value : 149\n",
      "This index has no predicted value : 150\n",
      "This index has no predicted value : 165\n",
      "This index has no predicted value : 168\n",
      "This index has no predicted value : 175\n",
      "This index has no predicted value : 185\n",
      "This index has no predicted value : 196\n",
      "This index has no predicted value : 205\n",
      "This index has no predicted value : 224\n",
      "This index has no predicted value : 227\n",
      "This index has no predicted value : 243\n",
      "This index has no predicted value : 252\n",
      "This index has no predicted value : 254\n",
      "This index has no predicted value : 258\n",
      "This index has no predicted value : 260\n",
      "This index has no predicted value : 272\n",
      "This index has no predicted value : 281\n",
      "This index has no predicted value : 289\n",
      "This index has no predicted value : 299\n",
      "This index has no predicted value : 301\n",
      "This index has no predicted value : 303\n",
      "This index has no predicted value : 310\n",
      "This index has no predicted value : 318\n",
      "This index has no predicted value : 320\n",
      "This index has no predicted value : 341\n",
      "This index has no predicted value : 343\n",
      "This index has no predicted value : 344\n",
      "This index has no predicted value : 346\n",
      "This index has no predicted value : 348\n",
      "This index has no predicted value : 349\n",
      "This index has no predicted value : 351\n",
      "This index has no predicted value : 359\n",
      "This index has no predicted value : 366\n",
      "This index has no predicted value : 369\n",
      "This index has no predicted value : 383\n",
      "This index has no predicted value : 392\n",
      "This index has no predicted value : 407\n",
      "This index has no predicted value : 413\n",
      "This index has no predicted value : 416\n",
      "This index has no predicted value : 420\n",
      "This index has no predicted value : 433\n",
      "This index has no predicted value : 438\n",
      "This index has no predicted value : 462\n",
      "This index has no predicted value : 464\n",
      "This index has no predicted value : 515\n",
      "This index has no predicted value : 523\n",
      "This index has no predicted value : 543\n",
      "This index has no predicted value : 544\n",
      "This index has no predicted value : 551\n",
      "This index has no predicted value : 557\n",
      "This index has no predicted value : 565\n",
      "This index has no predicted value : 566\n",
      "This index has no predicted value : 570\n",
      "This index has no predicted value : 587\n",
      "This index has no predicted value : 597\n",
      "This index has no predicted value : 599\n",
      "This index has no predicted value : 616\n",
      "This index has no predicted value : 628\n",
      "This index has no predicted value : 629\n",
      "This index has no predicted value : 634\n",
      "This index has no predicted value : 635\n",
      "This index has no predicted value : 641\n",
      "This index has no predicted value : 658\n",
      "This index has no predicted value : 660\n",
      "This index has no predicted value : 671\n",
      "This index has no predicted value : 680\n",
      "This index has no predicted value : 684\n",
      "This index has no predicted value : 685\n",
      "This index has no predicted value : 690\n",
      "This index has no predicted value : 691\n",
      "This index has no predicted value : 695\n",
      "This index has no predicted value : 704\n",
      "This index has no predicted value : 722\n",
      "This index has no predicted value : 725\n",
      "This index has no predicted value : 731\n",
      "This index has no predicted value : 736\n",
      "This index has no predicted value : 756\n",
      "This index has no predicted value : 777\n",
      "This index has no predicted value : 779\n",
      "This index has no predicted value : 786\n",
      "This index has no predicted value : 788\n",
      "This index has no predicted value : 813\n",
      "This index has no predicted value : 817\n",
      "This index has no predicted value : 824\n",
      "This index has no predicted value : 826\n",
      "This index has no predicted value : 829\n",
      "This index has no predicted value : 862\n",
      "This index has no predicted value : 880\n",
      "This index has no predicted value : 886\n",
      "This index has no predicted value : 892\n",
      "This index has no predicted value : 912\n",
      "This index has no predicted value : 928\n",
      "This index has no predicted value : 937\n",
      "This index has no predicted value : 954\n",
      "This index has no predicted value : 958\n",
      "This index has no predicted value : 973\n",
      "This index has no predicted value : 974\n",
      "This index has no predicted value : 989\n",
      "This index has no predicted value : 1004\n",
      "This index has no predicted value : 1005\n",
      "This index has no predicted value : 1009\n",
      "This index has no predicted value : 1020\n",
      "This index has no predicted value : 1030\n",
      "This index has no predicted value : 1039\n",
      "This index has no predicted value : 1057\n",
      "This index has no predicted value : 1073\n",
      "This index has no predicted value : 1080\n",
      "This index has no predicted value : 1082\n",
      "This index has no predicted value : 1093\n",
      "This index has no predicted value : 1099\n",
      "This index has no predicted value : 1115\n",
      "This index has no predicted value : 1119\n",
      "This index has no predicted value : 1123\n",
      "This index has no predicted value : 1124\n",
      "This index has no predicted value : 1130\n",
      "This index has no predicted value : 1136\n",
      "This index has no predicted value : 1158\n",
      "This index has no predicted value : 1159\n",
      "This index has no predicted value : 1161\n",
      "This index has no predicted value : 1167\n",
      "This index has no predicted value : 1172\n",
      "This index has no predicted value : 1185\n",
      "This index has no predicted value : 1200\n",
      "This index has no predicted value : 1221\n",
      "This index has no predicted value : 1235\n",
      "This index has no predicted value : 1273\n",
      "This index has no predicted value : 1276\n",
      "This index has no predicted value : 1293\n",
      "This index has no predicted value : 1294\n",
      "This index has no predicted value : 1299\n",
      "This index has no predicted value : 1301\n",
      "This index has no predicted value : 1302\n",
      "This index has no predicted value : 1306\n",
      "This index has no predicted value : 1310\n",
      "This index has no predicted value : 1315\n",
      "This index has no predicted value : 1322\n",
      "This index has no predicted value : 1356\n",
      "This index has no predicted value : 1415\n",
      "This index has no predicted value : 1421\n",
      "This index has no predicted value : 1424\n",
      "This index has no predicted value : 1429\n",
      "This index has no predicted value : 1442\n",
      "This index has no predicted value : 1451\n",
      "This index has no predicted value : 1454\n",
      "This index has no predicted value : 1475\n",
      "This index has no predicted value : 1480\n",
      "This index has no predicted value : 1488\n",
      "This index has no predicted value : 1492\n",
      "This index has no predicted value : 1493\n",
      "This index has no predicted value : 1502\n"
     ]
    }
   ],
   "source": [
    "accuracy_1 = []\n",
    "accuracy_2 = []\n",
    "accuracy_3 = []\n",
    "for ele in range(Results['predicted_genre'].size):\n",
    "    if len(Results['predicted_genre'][ele]) == 1:\n",
    "        accuracy_1.append(Results['predicted_genre'][ele][0] in Results['actual_genre'][ele])\n",
    "    elif len(Results['predicted_genre'][ele]) == 2:    \n",
    "        accuracy_1.append(Results['predicted_genre'][ele][0] in Results['actual_genre'][ele])\n",
    "        accuracy_2.append(Results['predicted_genre'][ele][1] in Results['actual_genre'][ele])\n",
    "    elif len(Results['predicted_genre'][ele]) == 3:   \n",
    "        accuracy_1.append(Results['predicted_genre'][ele][0] in Results['actual_genre'][ele])\n",
    "        accuracy_2.append(Results['predicted_genre'][ele][1] in Results['actual_genre'][ele])\n",
    "        accuracy_3.append(Results['predicted_genre'][ele][2] in Results['actual_genre'][ele])\n",
    "    else:\n",
    "        print(\"This index has no predicted value : %s\" % ele)    \n",
    "        \n",
    "                "
   ]
  },
  {
   "cell_type": "code",
   "execution_count": 302,
   "metadata": {},
   "outputs": [
    {
     "name": "stdout",
     "output_type": "stream",
     "text": [
      "72.84196547144755\n"
     ]
    }
   ],
   "source": [
    "#Acutal Model accuracy\n",
    "print((sum(accuracy_1) + sum(accuracy_2) + sum(accuracy_3))/len(Results['predicted_genre'])*100)"
   ]
  },
  {
   "cell_type": "code",
   "execution_count": null,
   "metadata": {},
   "outputs": [],
   "source": []
  },
  {
   "cell_type": "code",
   "execution_count": null,
   "metadata": {},
   "outputs": [],
   "source": []
  },
  {
   "cell_type": "code",
   "execution_count": 133,
   "metadata": {},
   "outputs": [
    {
     "ename": "SyntaxError",
     "evalue": "'return' outside function (<ipython-input-133-7fb8947367ad>, line 4)",
     "output_type": "error",
     "traceback": [
      "\u001b[1;36m  File \u001b[1;32m\"<ipython-input-133-7fb8947367ad>\"\u001b[1;36m, line \u001b[1;32m4\u001b[0m\n\u001b[1;33m    return x\u001b[0m\n\u001b[1;37m    ^\u001b[0m\n\u001b[1;31mSyntaxError\u001b[0m\u001b[1;31m:\u001b[0m 'return' outside function\n"
     ]
    }
   ],
   "source": [
    "for genre in unique_genres:\n",
    "    x = []\n",
    "    x.append(i)"
   ]
  },
  {
   "cell_type": "code",
   "execution_count": 138,
   "metadata": {},
   "outputs": [
    {
     "name": "stderr",
     "output_type": "stream",
     "text": [
      "<ipython-input-138-b327f53f93d7>:2: SettingWithCopyWarning: \n",
      "A value is trying to be set on a copy of a slice from a DataFrame\n",
      "\n",
      "See the caveats in the documentation: https://pandas.pydata.org/pandas-docs/stable/user_guide/indexing.html#returning-a-view-versus-a-copy\n",
      "  df['genre'][i] = re.sub('^,+', '', df['genre'][i])\n",
      "<ipython-input-138-b327f53f93d7>:3: SettingWithCopyWarning: \n",
      "A value is trying to be set on a copy of a slice from a DataFrame\n",
      "\n",
      "See the caveats in the documentation: https://pandas.pydata.org/pandas-docs/stable/user_guide/indexing.html#returning-a-view-versus-a-copy\n",
      "  df['genre'][i] = re.sub(',+$', '', df['genre'][i])\n"
     ]
    }
   ],
   "source": []
  },
  {
   "cell_type": "code",
   "execution_count": 139,
   "metadata": {},
   "outputs": [
    {
     "data": {
      "text/plain": [
       "0        Drama,Sci-Fi\n",
       "1               Drama\n",
       "2              Horror\n",
       "3       Action,Sci-Fi\n",
       "4               Drama\n",
       "            ...      \n",
       "7782            Drama\n",
       "7783            Drama\n",
       "7784        Documenty\n",
       "7785                 \n",
       "7786        Documenty\n",
       "Name: genre, Length: 7787, dtype: object"
      ]
     },
     "execution_count": 139,
     "metadata": {},
     "output_type": "execute_result"
    }
   ],
   "source": [
    "df['genre']"
   ]
  },
  {
   "cell_type": "code",
   "execution_count": 151,
   "metadata": {},
   "outputs": [
    {
     "data": {
      "text/plain": [
       "375"
      ]
     },
     "execution_count": 151,
     "metadata": {},
     "output_type": "execute_result"
    }
   ],
   "source": [
    "(df['genre']=='').sum()"
   ]
  },
  {
   "cell_type": "code",
   "execution_count": 155,
   "metadata": {},
   "outputs": [],
   "source": [
    "df.to_csv(\"newdata1.csv\")"
   ]
  },
  {
   "cell_type": "code",
   "execution_count": 154,
   "metadata": {},
   "outputs": [
    {
     "data": {
      "text/plain": [
       "'C:\\\\Users\\\\DURGESH\\\\Downloads\\\\SPRINGBOARD\\\\Case studies\\\\Unit 7 - Data Collection - APIs\\\\Project Ideas and Datasets'"
      ]
     },
     "execution_count": 154,
     "metadata": {},
     "output_type": "execute_result"
    }
   ],
   "source": [
    "%pwd"
   ]
  }
 ],
 "metadata": {
  "kernelspec": {
   "display_name": "Python 3",
   "language": "python",
   "name": "python3"
  },
  "language_info": {
   "codemirror_mode": {
    "name": "ipython",
    "version": 3
   },
   "file_extension": ".py",
   "mimetype": "text/x-python",
   "name": "python",
   "nbconvert_exporter": "python",
   "pygments_lexer": "ipython3",
   "version": "3.8.3"
  }
 },
 "nbformat": 4,
 "nbformat_minor": 4
}
